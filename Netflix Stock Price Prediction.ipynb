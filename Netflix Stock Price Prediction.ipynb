{
  "cells": [
    {
      "cell_type": "markdown",
      "metadata": {
        "id": "view-in-github",
        "colab_type": "text"
      },
      "source": [
        "<a href=\"https://colab.research.google.com/github/AkashKoley012/Deep-Learning-Projects/blob/main/Netflix%20Stock%20Price%20Prediction.ipynb\" target=\"_parent\"><img src=\"https://colab.research.google.com/assets/colab-badge.svg\" alt=\"Open In Colab\"/></a>"
      ]
    },
    {
      "cell_type": "markdown",
      "source": [
        "# Collecting Data"
      ],
      "metadata": {
        "id": "xyOLe4vf96d9"
      },
      "id": "xyOLe4vf96d9"
    },
    {
      "cell_type": "code",
      "execution_count": 180,
      "id": "b36a5666-900e-4acb-b9a4-5739b02cb85b",
      "metadata": {
        "id": "b36a5666-900e-4acb-b9a4-5739b02cb85b",
        "outputId": "8c01a184-da28-48f3-9cca-bcf29998c0b9",
        "colab": {
          "base_uri": "https://localhost:8080/"
        }
      },
      "outputs": [
        {
          "output_type": "stream",
          "name": "stdout",
          "text": [
            "Dataset URL: https://www.kaggle.com/datasets/jainilcoder/netflix-stock-price-prediction\n",
            "License(s): CC0-1.0\n",
            "netflix-stock-price-prediction.zip: Skipping, found more recently modified local copy (use --force to force download)\n"
          ]
        }
      ],
      "source": [
        "!kaggle datasets download -d jainilcoder/netflix-stock-price-prediction"
      ]
    },
    {
      "cell_type": "code",
      "source": [
        "import zipfile\n",
        "zip_ref = zipfile.ZipFile('/content/netflix-stock-price-prediction.zip', 'r')\n",
        "zip_ref.extractall('/content')\n",
        "zip_ref.close()"
      ],
      "metadata": {
        "id": "-Q5LNQ27_GgU"
      },
      "id": "-Q5LNQ27_GgU",
      "execution_count": 181,
      "outputs": []
    },
    {
      "cell_type": "markdown",
      "source": [
        "# Imports modules"
      ],
      "metadata": {
        "id": "Ki4Vvq30_VZQ"
      },
      "id": "Ki4Vvq30_VZQ"
    },
    {
      "cell_type": "code",
      "source": [
        "import pandas as pd\n",
        "import numpy as np\n",
        "import matplotlib.pyplot as plt\n",
        "\n",
        "from sklearn.preprocessing import MinMaxScaler\n",
        "\n",
        "import torch\n",
        "import torch.nn as nn\n",
        "from torch.utils.data import Dataset, DataLoader"
      ],
      "metadata": {
        "id": "c4lnHrdi_VB3"
      },
      "id": "c4lnHrdi_VB3",
      "execution_count": 182,
      "outputs": []
    },
    {
      "cell_type": "markdown",
      "source": [
        "# Feature Engineering"
      ],
      "metadata": {
        "id": "PCwiu5PKBKWP"
      },
      "id": "PCwiu5PKBKWP"
    },
    {
      "cell_type": "code",
      "source": [
        "df = pd.read_csv('/content/NFLX.csv')\n",
        "df.head()"
      ],
      "metadata": {
        "id": "SyMV3R_1_S2m",
        "outputId": "73d73b2b-8342-44ef-fbb3-d43ed3a4fca0",
        "colab": {
          "base_uri": "https://localhost:8080/",
          "height": 206
        }
      },
      "id": "SyMV3R_1_S2m",
      "execution_count": 183,
      "outputs": [
        {
          "output_type": "execute_result",
          "data": {
            "text/plain": [
              "         Date        Open        High         Low       Close   Adj Close  \\\n",
              "0  2018-02-05  262.000000  267.899994  250.029999  254.259995  254.259995   \n",
              "1  2018-02-06  247.699997  266.700012  245.000000  265.720001  265.720001   \n",
              "2  2018-02-07  266.579987  272.450012  264.329987  264.559998  264.559998   \n",
              "3  2018-02-08  267.079987  267.619995  250.000000  250.100006  250.100006   \n",
              "4  2018-02-09  253.850006  255.800003  236.110001  249.470001  249.470001   \n",
              "\n",
              "     Volume  \n",
              "0  11896100  \n",
              "1  12595800  \n",
              "2   8981500  \n",
              "3   9306700  \n",
              "4  16906900  "
            ],
            "text/html": [
              "\n",
              "  <div id=\"df-8f5a6b63-cd8b-4874-8f85-a679fcb5b6f8\" class=\"colab-df-container\">\n",
              "    <div>\n",
              "<style scoped>\n",
              "    .dataframe tbody tr th:only-of-type {\n",
              "        vertical-align: middle;\n",
              "    }\n",
              "\n",
              "    .dataframe tbody tr th {\n",
              "        vertical-align: top;\n",
              "    }\n",
              "\n",
              "    .dataframe thead th {\n",
              "        text-align: right;\n",
              "    }\n",
              "</style>\n",
              "<table border=\"1\" class=\"dataframe\">\n",
              "  <thead>\n",
              "    <tr style=\"text-align: right;\">\n",
              "      <th></th>\n",
              "      <th>Date</th>\n",
              "      <th>Open</th>\n",
              "      <th>High</th>\n",
              "      <th>Low</th>\n",
              "      <th>Close</th>\n",
              "      <th>Adj Close</th>\n",
              "      <th>Volume</th>\n",
              "    </tr>\n",
              "  </thead>\n",
              "  <tbody>\n",
              "    <tr>\n",
              "      <th>0</th>\n",
              "      <td>2018-02-05</td>\n",
              "      <td>262.000000</td>\n",
              "      <td>267.899994</td>\n",
              "      <td>250.029999</td>\n",
              "      <td>254.259995</td>\n",
              "      <td>254.259995</td>\n",
              "      <td>11896100</td>\n",
              "    </tr>\n",
              "    <tr>\n",
              "      <th>1</th>\n",
              "      <td>2018-02-06</td>\n",
              "      <td>247.699997</td>\n",
              "      <td>266.700012</td>\n",
              "      <td>245.000000</td>\n",
              "      <td>265.720001</td>\n",
              "      <td>265.720001</td>\n",
              "      <td>12595800</td>\n",
              "    </tr>\n",
              "    <tr>\n",
              "      <th>2</th>\n",
              "      <td>2018-02-07</td>\n",
              "      <td>266.579987</td>\n",
              "      <td>272.450012</td>\n",
              "      <td>264.329987</td>\n",
              "      <td>264.559998</td>\n",
              "      <td>264.559998</td>\n",
              "      <td>8981500</td>\n",
              "    </tr>\n",
              "    <tr>\n",
              "      <th>3</th>\n",
              "      <td>2018-02-08</td>\n",
              "      <td>267.079987</td>\n",
              "      <td>267.619995</td>\n",
              "      <td>250.000000</td>\n",
              "      <td>250.100006</td>\n",
              "      <td>250.100006</td>\n",
              "      <td>9306700</td>\n",
              "    </tr>\n",
              "    <tr>\n",
              "      <th>4</th>\n",
              "      <td>2018-02-09</td>\n",
              "      <td>253.850006</td>\n",
              "      <td>255.800003</td>\n",
              "      <td>236.110001</td>\n",
              "      <td>249.470001</td>\n",
              "      <td>249.470001</td>\n",
              "      <td>16906900</td>\n",
              "    </tr>\n",
              "  </tbody>\n",
              "</table>\n",
              "</div>\n",
              "    <div class=\"colab-df-buttons\">\n",
              "\n",
              "  <div class=\"colab-df-container\">\n",
              "    <button class=\"colab-df-convert\" onclick=\"convertToInteractive('df-8f5a6b63-cd8b-4874-8f85-a679fcb5b6f8')\"\n",
              "            title=\"Convert this dataframe to an interactive table.\"\n",
              "            style=\"display:none;\">\n",
              "\n",
              "  <svg xmlns=\"http://www.w3.org/2000/svg\" height=\"24px\" viewBox=\"0 -960 960 960\">\n",
              "    <path d=\"M120-120v-720h720v720H120Zm60-500h600v-160H180v160Zm220 220h160v-160H400v160Zm0 220h160v-160H400v160ZM180-400h160v-160H180v160Zm440 0h160v-160H620v160ZM180-180h160v-160H180v160Zm440 0h160v-160H620v160Z\"/>\n",
              "  </svg>\n",
              "    </button>\n",
              "\n",
              "  <style>\n",
              "    .colab-df-container {\n",
              "      display:flex;\n",
              "      gap: 12px;\n",
              "    }\n",
              "\n",
              "    .colab-df-convert {\n",
              "      background-color: #E8F0FE;\n",
              "      border: none;\n",
              "      border-radius: 50%;\n",
              "      cursor: pointer;\n",
              "      display: none;\n",
              "      fill: #1967D2;\n",
              "      height: 32px;\n",
              "      padding: 0 0 0 0;\n",
              "      width: 32px;\n",
              "    }\n",
              "\n",
              "    .colab-df-convert:hover {\n",
              "      background-color: #E2EBFA;\n",
              "      box-shadow: 0px 1px 2px rgba(60, 64, 67, 0.3), 0px 1px 3px 1px rgba(60, 64, 67, 0.15);\n",
              "      fill: #174EA6;\n",
              "    }\n",
              "\n",
              "    .colab-df-buttons div {\n",
              "      margin-bottom: 4px;\n",
              "    }\n",
              "\n",
              "    [theme=dark] .colab-df-convert {\n",
              "      background-color: #3B4455;\n",
              "      fill: #D2E3FC;\n",
              "    }\n",
              "\n",
              "    [theme=dark] .colab-df-convert:hover {\n",
              "      background-color: #434B5C;\n",
              "      box-shadow: 0px 1px 3px 1px rgba(0, 0, 0, 0.15);\n",
              "      filter: drop-shadow(0px 1px 2px rgba(0, 0, 0, 0.3));\n",
              "      fill: #FFFFFF;\n",
              "    }\n",
              "  </style>\n",
              "\n",
              "    <script>\n",
              "      const buttonEl =\n",
              "        document.querySelector('#df-8f5a6b63-cd8b-4874-8f85-a679fcb5b6f8 button.colab-df-convert');\n",
              "      buttonEl.style.display =\n",
              "        google.colab.kernel.accessAllowed ? 'block' : 'none';\n",
              "\n",
              "      async function convertToInteractive(key) {\n",
              "        const element = document.querySelector('#df-8f5a6b63-cd8b-4874-8f85-a679fcb5b6f8');\n",
              "        const dataTable =\n",
              "          await google.colab.kernel.invokeFunction('convertToInteractive',\n",
              "                                                    [key], {});\n",
              "        if (!dataTable) return;\n",
              "\n",
              "        const docLinkHtml = 'Like what you see? Visit the ' +\n",
              "          '<a target=\"_blank\" href=https://colab.research.google.com/notebooks/data_table.ipynb>data table notebook</a>'\n",
              "          + ' to learn more about interactive tables.';\n",
              "        element.innerHTML = '';\n",
              "        dataTable['output_type'] = 'display_data';\n",
              "        await google.colab.output.renderOutput(dataTable, element);\n",
              "        const docLink = document.createElement('div');\n",
              "        docLink.innerHTML = docLinkHtml;\n",
              "        element.appendChild(docLink);\n",
              "      }\n",
              "    </script>\n",
              "  </div>\n",
              "\n",
              "\n",
              "<div id=\"df-1373d5dd-e062-4879-b3b6-a4c128b1133c\">\n",
              "  <button class=\"colab-df-quickchart\" onclick=\"quickchart('df-1373d5dd-e062-4879-b3b6-a4c128b1133c')\"\n",
              "            title=\"Suggest charts\"\n",
              "            style=\"display:none;\">\n",
              "\n",
              "<svg xmlns=\"http://www.w3.org/2000/svg\" height=\"24px\"viewBox=\"0 0 24 24\"\n",
              "     width=\"24px\">\n",
              "    <g>\n",
              "        <path d=\"M19 3H5c-1.1 0-2 .9-2 2v14c0 1.1.9 2 2 2h14c1.1 0 2-.9 2-2V5c0-1.1-.9-2-2-2zM9 17H7v-7h2v7zm4 0h-2V7h2v10zm4 0h-2v-4h2v4z\"/>\n",
              "    </g>\n",
              "</svg>\n",
              "  </button>\n",
              "\n",
              "<style>\n",
              "  .colab-df-quickchart {\n",
              "      --bg-color: #E8F0FE;\n",
              "      --fill-color: #1967D2;\n",
              "      --hover-bg-color: #E2EBFA;\n",
              "      --hover-fill-color: #174EA6;\n",
              "      --disabled-fill-color: #AAA;\n",
              "      --disabled-bg-color: #DDD;\n",
              "  }\n",
              "\n",
              "  [theme=dark] .colab-df-quickchart {\n",
              "      --bg-color: #3B4455;\n",
              "      --fill-color: #D2E3FC;\n",
              "      --hover-bg-color: #434B5C;\n",
              "      --hover-fill-color: #FFFFFF;\n",
              "      --disabled-bg-color: #3B4455;\n",
              "      --disabled-fill-color: #666;\n",
              "  }\n",
              "\n",
              "  .colab-df-quickchart {\n",
              "    background-color: var(--bg-color);\n",
              "    border: none;\n",
              "    border-radius: 50%;\n",
              "    cursor: pointer;\n",
              "    display: none;\n",
              "    fill: var(--fill-color);\n",
              "    height: 32px;\n",
              "    padding: 0;\n",
              "    width: 32px;\n",
              "  }\n",
              "\n",
              "  .colab-df-quickchart:hover {\n",
              "    background-color: var(--hover-bg-color);\n",
              "    box-shadow: 0 1px 2px rgba(60, 64, 67, 0.3), 0 1px 3px 1px rgba(60, 64, 67, 0.15);\n",
              "    fill: var(--button-hover-fill-color);\n",
              "  }\n",
              "\n",
              "  .colab-df-quickchart-complete:disabled,\n",
              "  .colab-df-quickchart-complete:disabled:hover {\n",
              "    background-color: var(--disabled-bg-color);\n",
              "    fill: var(--disabled-fill-color);\n",
              "    box-shadow: none;\n",
              "  }\n",
              "\n",
              "  .colab-df-spinner {\n",
              "    border: 2px solid var(--fill-color);\n",
              "    border-color: transparent;\n",
              "    border-bottom-color: var(--fill-color);\n",
              "    animation:\n",
              "      spin 1s steps(1) infinite;\n",
              "  }\n",
              "\n",
              "  @keyframes spin {\n",
              "    0% {\n",
              "      border-color: transparent;\n",
              "      border-bottom-color: var(--fill-color);\n",
              "      border-left-color: var(--fill-color);\n",
              "    }\n",
              "    20% {\n",
              "      border-color: transparent;\n",
              "      border-left-color: var(--fill-color);\n",
              "      border-top-color: var(--fill-color);\n",
              "    }\n",
              "    30% {\n",
              "      border-color: transparent;\n",
              "      border-left-color: var(--fill-color);\n",
              "      border-top-color: var(--fill-color);\n",
              "      border-right-color: var(--fill-color);\n",
              "    }\n",
              "    40% {\n",
              "      border-color: transparent;\n",
              "      border-right-color: var(--fill-color);\n",
              "      border-top-color: var(--fill-color);\n",
              "    }\n",
              "    60% {\n",
              "      border-color: transparent;\n",
              "      border-right-color: var(--fill-color);\n",
              "    }\n",
              "    80% {\n",
              "      border-color: transparent;\n",
              "      border-right-color: var(--fill-color);\n",
              "      border-bottom-color: var(--fill-color);\n",
              "    }\n",
              "    90% {\n",
              "      border-color: transparent;\n",
              "      border-bottom-color: var(--fill-color);\n",
              "    }\n",
              "  }\n",
              "</style>\n",
              "\n",
              "  <script>\n",
              "    async function quickchart(key) {\n",
              "      const quickchartButtonEl =\n",
              "        document.querySelector('#' + key + ' button');\n",
              "      quickchartButtonEl.disabled = true;  // To prevent multiple clicks.\n",
              "      quickchartButtonEl.classList.add('colab-df-spinner');\n",
              "      try {\n",
              "        const charts = await google.colab.kernel.invokeFunction(\n",
              "            'suggestCharts', [key], {});\n",
              "      } catch (error) {\n",
              "        console.error('Error during call to suggestCharts:', error);\n",
              "      }\n",
              "      quickchartButtonEl.classList.remove('colab-df-spinner');\n",
              "      quickchartButtonEl.classList.add('colab-df-quickchart-complete');\n",
              "    }\n",
              "    (() => {\n",
              "      let quickchartButtonEl =\n",
              "        document.querySelector('#df-1373d5dd-e062-4879-b3b6-a4c128b1133c button');\n",
              "      quickchartButtonEl.style.display =\n",
              "        google.colab.kernel.accessAllowed ? 'block' : 'none';\n",
              "    })();\n",
              "  </script>\n",
              "</div>\n",
              "\n",
              "    </div>\n",
              "  </div>\n"
            ],
            "application/vnd.google.colaboratory.intrinsic+json": {
              "type": "dataframe",
              "variable_name": "df",
              "summary": "{\n  \"name\": \"df\",\n  \"rows\": 1009,\n  \"fields\": [\n    {\n      \"column\": \"Date\",\n      \"properties\": {\n        \"dtype\": \"object\",\n        \"num_unique_values\": 1009,\n        \"samples\": [\n          \"2020-08-04\",\n          \"2020-08-07\",\n          \"2021-01-14\"\n        ],\n        \"semantic_type\": \"\",\n        \"description\": \"\"\n      }\n    },\n    {\n      \"column\": \"Open\",\n      \"properties\": {\n        \"dtype\": \"number\",\n        \"std\": 108.53753170401451,\n        \"min\": 233.919998,\n        \"max\": 692.349976,\n        \"num_unique_values\": 976,\n        \"samples\": [\n          254.630005,\n          427.559998,\n          339.570007\n        ],\n        \"semantic_type\": \"\",\n        \"description\": \"\"\n      }\n    },\n    {\n      \"column\": \"High\",\n      \"properties\": {\n        \"dtype\": \"number\",\n        \"std\": 109.2629595711946,\n        \"min\": 250.649994,\n        \"max\": 700.98999,\n        \"num_unique_values\": 983,\n        \"samples\": [\n          511.76001,\n          494.850006,\n          496.660004\n        ],\n        \"semantic_type\": \"\",\n        \"description\": \"\"\n      }\n    },\n    {\n      \"column\": \"Low\",\n      \"properties\": {\n        \"dtype\": \"number\",\n        \"std\": 107.55586739006046,\n        \"min\": 231.229996,\n        \"max\": 686.090027,\n        \"num_unique_values\": 989,\n        \"samples\": [\n          266.480011,\n          349.290009,\n          384.899994\n        ],\n        \"semantic_type\": \"\",\n        \"description\": \"\"\n      }\n    },\n    {\n      \"column\": \"Close\",\n      \"properties\": {\n        \"dtype\": \"number\",\n        \"std\": 108.28999877034997,\n        \"min\": 233.880005,\n        \"max\": 691.690002,\n        \"num_unique_values\": 988,\n        \"samples\": [\n          265.320007,\n          345.559998,\n          380.070007\n        ],\n        \"semantic_type\": \"\",\n        \"description\": \"\"\n      }\n    },\n    {\n      \"column\": \"Adj Close\",\n      \"properties\": {\n        \"dtype\": \"number\",\n        \"std\": 108.28999877034997,\n        \"min\": 233.880005,\n        \"max\": 691.690002,\n        \"num_unique_values\": 988,\n        \"samples\": [\n          265.320007,\n          345.559998,\n          380.070007\n        ],\n        \"semantic_type\": \"\",\n        \"description\": \"\"\n      }\n    },\n    {\n      \"column\": \"Volume\",\n      \"properties\": {\n        \"dtype\": \"number\",\n        \"std\": 5465535,\n        \"min\": 1144000,\n        \"max\": 58904300,\n        \"num_unique_values\": 1005,\n        \"samples\": [\n          2671700,\n          3725900,\n          4927900\n        ],\n        \"semantic_type\": \"\",\n        \"description\": \"\"\n      }\n    }\n  ]\n}"
            }
          },
          "metadata": {},
          "execution_count": 183
        }
      ]
    },
    {
      "cell_type": "code",
      "source": [
        "df.shape"
      ],
      "metadata": {
        "id": "IDoBkNXB_5Y-",
        "outputId": "f605a948-7af3-4048-bad6-98e6e3395d39",
        "colab": {
          "base_uri": "https://localhost:8080/"
        }
      },
      "id": "IDoBkNXB_5Y-",
      "execution_count": 184,
      "outputs": [
        {
          "output_type": "execute_result",
          "data": {
            "text/plain": [
              "(1009, 7)"
            ]
          },
          "metadata": {},
          "execution_count": 184
        }
      ]
    },
    {
      "cell_type": "markdown",
      "source": [
        "# Scaled Data"
      ],
      "metadata": {
        "id": "mi_TWXmeZyUn"
      },
      "id": "mi_TWXmeZyUn"
    },
    {
      "cell_type": "code",
      "source": [
        "scaler = MinMaxScaler()\n",
        "data = scaler.fit_transform(df[['Close']].values)\n",
        "data"
      ],
      "metadata": {
        "id": "Eb4qJSiRWpJD",
        "outputId": "a78632d2-4309-4955-86cb-b65774a7ccfd",
        "colab": {
          "base_uri": "https://localhost:8080/"
        }
      },
      "id": "Eb4qJSiRWpJD",
      "execution_count": 185,
      "outputs": [
        {
          "output_type": "execute_result",
          "data": {
            "text/plain": [
              "array([[0.04451626],\n",
              "       [0.06954849],\n",
              "       [0.06701469],\n",
              "       ...,\n",
              "       [0.4272515 ],\n",
              "       [0.37509011],\n",
              "       [0.38507243]])"
            ]
          },
          "metadata": {},
          "execution_count": 185
        }
      ]
    },
    {
      "cell_type": "code",
      "source": [
        "plt.figure(figsize=(12,6))\n",
        "plt.plot(data)\n",
        "plt.show()"
      ],
      "metadata": {
        "id": "SPR2cRZmF5Qr",
        "outputId": "b5ee4a28-fb32-49d0-f013-2cdcdea0256f",
        "colab": {
          "base_uri": "https://localhost:8080/",
          "height": 522
        }
      },
      "id": "SPR2cRZmF5Qr",
      "execution_count": 186,
      "outputs": [
        {
          "output_type": "display_data",
          "data": {
            "text/plain": [
              "<Figure size 1200x600 with 1 Axes>"
            ],
            "image/png": "[encoded data removed]"
          },
          "metadata": {}
        }
      ]
    },
    {
      "cell_type": "code",
      "source": [
        "df['Close'].values"
      ],
      "metadata": {
        "id": "EQc6Gw2EX-sy",
        "outputId": "27126b10-7404-47f7-82f0-6520cb005601",
        "colab": {
          "base_uri": "https://localhost:8080/"
        }
      },
      "id": "EQc6Gw2EX-sy",
      "execution_count": 187,
      "outputs": [
        {
          "output_type": "execute_result",
          "data": {
            "text/plain": [
              "array([254.259995, 265.720001, 264.559998, ..., 429.480011, 405.600006,\n",
              "       410.170013])"
            ]
          },
          "metadata": {},
          "execution_count": 187
        }
      ]
    },
    {
      "cell_type": "markdown",
      "source": [
        "# Train Test"
      ],
      "metadata": {
        "id": "_AWAeZZpZ4HC"
      },
      "id": "_AWAeZZpZ4HC"
    },
    {
      "cell_type": "code",
      "source": [
        "def prepare_data(data, seq_len=50):\n",
        "  X = []\n",
        "  y = []\n",
        "\n",
        "  for i in range(len(data)-seq_len):\n",
        "    X.append(data[i:(i+seq_len)])\n",
        "    y.append(data[i+seq_len])\n",
        "\n",
        "  return np.array(X), np.array(y)"
      ],
      "metadata": {
        "id": "CG1SNG33dn0Q"
      },
      "id": "CG1SNG33dn0Q",
      "execution_count": 188,
      "outputs": []
    },
    {
      "cell_type": "code",
      "source": [
        "X, y = prepare_data(data, seq_len=50)"
      ],
      "metadata": {
        "id": "OpUVfryVdsrT"
      },
      "id": "OpUVfryVdsrT",
      "execution_count": 189,
      "outputs": []
    },
    {
      "cell_type": "code",
      "source": [
        "# for i in range(len(data)-50):\n",
        "#   X = []\n",
        "#   X.append(data[i:(i+50)])\n",
        "#   print(np.array(X))\n",
        "#   break"
      ],
      "metadata": {
        "collapsed": true,
        "id": "NySckuv3XvTC"
      },
      "id": "NySckuv3XvTC",
      "execution_count": 190,
      "outputs": []
    },
    {
      "cell_type": "code",
      "source": [
        "X.shape, y.shape"
      ],
      "metadata": {
        "id": "O4WFLEpN7TGM",
        "outputId": "5fbf13ee-12d4-4efc-a1d0-265af7d88815",
        "colab": {
          "base_uri": "https://localhost:8080/"
        }
      },
      "id": "O4WFLEpN7TGM",
      "execution_count": 191,
      "outputs": [
        {
          "output_type": "execute_result",
          "data": {
            "text/plain": [
              "((959, 50, 1), (959, 1))"
            ]
          },
          "metadata": {},
          "execution_count": 191
        }
      ]
    },
    {
      "cell_type": "code",
      "source": [
        "split = int(len(X) * 0.8)\n",
        "X_train, y_train = X[:split], y[:split]\n",
        "X_test, y_test = X[split:], y[split:]"
      ],
      "metadata": {
        "id": "NOkA0xkXZ7Fv"
      },
      "id": "NOkA0xkXZ7Fv",
      "execution_count": 192,
      "outputs": []
    },
    {
      "cell_type": "code",
      "source": [
        "X_train.shape, y_train.shape"
      ],
      "metadata": {
        "id": "NJItyRB2aXgN",
        "outputId": "139e8c14-8891-42bf-e2bc-4f51401c21b6",
        "colab": {
          "base_uri": "https://localhost:8080/"
        }
      },
      "id": "NJItyRB2aXgN",
      "execution_count": 193,
      "outputs": [
        {
          "output_type": "execute_result",
          "data": {
            "text/plain": [
              "((767, 50, 1), (767, 1))"
            ]
          },
          "metadata": {},
          "execution_count": 193
        }
      ]
    },
    {
      "cell_type": "code",
      "source": [
        "torch.tensor(X_train, dtype=torch.long)[0].squeeze(-1)"
      ],
      "metadata": {
        "id": "ArUsfZyTY2XI",
        "outputId": "060a5bfd-c452-417b-9e8e-fdb690d64f2c",
        "colab": {
          "base_uri": "https://localhost:8080/"
        }
      },
      "id": "ArUsfZyTY2XI",
      "execution_count": 194,
      "outputs": [
        {
          "output_type": "execute_result",
          "data": {
            "text/plain": [
              "tensor([0, 0, 0, 0, 0, 0, 0, 0, 0, 0, 0, 0, 0, 0, 0, 0, 0, 0, 0, 0, 0, 0, 0, 0,\n",
              "        0, 0, 0, 0, 0, 0, 0, 0, 0, 0, 0, 0, 0, 0, 0, 0, 0, 0, 0, 0, 0, 0, 0, 0,\n",
              "        0, 0])"
            ]
          },
          "metadata": {},
          "execution_count": 194
        }
      ]
    },
    {
      "cell_type": "markdown",
      "source": [
        "# Dataset & DataLoader"
      ],
      "metadata": {
        "id": "etJuPQug9CKz"
      },
      "id": "etJuPQug9CKz"
    },
    {
      "cell_type": "code",
      "source": [
        "class StockDataset(Dataset):\n",
        "  def __init__(self, X, y):\n",
        "    self.X = torch.tensor(X, dtype=torch.float32)\n",
        "    self.y = torch.tensor(y, dtype=torch.float32)\n",
        "\n",
        "  def __len__(self):\n",
        "    return len(self.X)\n",
        "\n",
        "  def __getitem__(self, idx):\n",
        "    return self.X[idx], self.y[idx]"
      ],
      "metadata": {
        "id": "Od5I8otEa-Eq"
      },
      "id": "Od5I8otEa-Eq",
      "execution_count": 260,
      "outputs": []
    },
    {
      "cell_type": "code",
      "source": [
        "train_dataset = StockDataset(X_train, y_train)\n",
        "test_dataset = StockDataset(X_test, y_test)"
      ],
      "metadata": {
        "id": "y0hp8bHq9k9A"
      },
      "id": "y0hp8bHq9k9A",
      "execution_count": 261,
      "outputs": []
    },
    {
      "cell_type": "code",
      "source": [
        "train_dataloader = DataLoader(train_dataset, batch_size=64, shuffle=True)\n",
        "test_dataloader = DataLoader(test_dataset, batch_size=64, shuffle=False)"
      ],
      "metadata": {
        "id": "Ayp3G2WA9pJb"
      },
      "id": "Ayp3G2WA9pJb",
      "execution_count": 262,
      "outputs": []
    },
    {
      "cell_type": "code",
      "source": [
        "for X, y in train_dataloader:\n",
        "  print(X.shape)\n",
        "  break"
      ],
      "metadata": {
        "id": "BiC2fdgeAW1b",
        "outputId": "e7093014-d095-4a9b-b6a4-8a3993c490a1",
        "colab": {
          "base_uri": "https://localhost:8080/"
        }
      },
      "id": "BiC2fdgeAW1b",
      "execution_count": 263,
      "outputs": [
        {
          "output_type": "stream",
          "name": "stdout",
          "text": [
            "torch.Size([64, 50, 1])\n"
          ]
        }
      ]
    },
    {
      "cell_type": "code",
      "source": [
        "for X, y in train_dataloader:\n",
        "  print(X)\n",
        "  break"
      ],
      "metadata": {
        "id": "ffsl8uMBXkPD",
        "outputId": "fd16003c-2902-470d-de38-13ebde9582c6",
        "colab": {
          "base_uri": "https://localhost:8080/"
        }
      },
      "id": "ffsl8uMBXkPD",
      "execution_count": 264,
      "outputs": [
        {
          "output_type": "stream",
          "name": "stdout",
          "text": [
            "tensor([[[0.4108],\n",
            "         [0.3942],\n",
            "         [0.4057],\n",
            "         ...,\n",
            "         [0.5450],\n",
            "         [0.5091],\n",
            "         [0.5277]],\n",
            "\n",
            "        [[0.5405],\n",
            "         [0.5435],\n",
            "         [0.5427],\n",
            "         ...,\n",
            "         [0.6368],\n",
            "         [0.5574],\n",
            "         [0.5490]],\n",
            "\n",
            "        [[0.2244],\n",
            "         [0.2611],\n",
            "         [0.2662],\n",
            "         ...,\n",
            "         [0.1792],\n",
            "         [0.1639],\n",
            "         [0.1681]],\n",
            "\n",
            "        ...,\n",
            "\n",
            "        [[0.2753],\n",
            "         [0.2794],\n",
            "         [0.2882],\n",
            "         ...,\n",
            "         [0.2484],\n",
            "         [0.2522],\n",
            "         [0.2446]],\n",
            "\n",
            "        [[0.1321],\n",
            "         [0.1182],\n",
            "         [0.1188],\n",
            "         ...,\n",
            "         [0.1075],\n",
            "         [0.1218],\n",
            "         [0.1336]],\n",
            "\n",
            "        [[0.3737],\n",
            "         [0.3995],\n",
            "         [0.3966],\n",
            "         ...,\n",
            "         [0.2729],\n",
            "         [0.2855],\n",
            "         [0.2940]]])\n"
          ]
        }
      ]
    },
    {
      "cell_type": "markdown",
      "source": [
        "# Neural Network"
      ],
      "metadata": {
        "id": "WzuHz54d-XhV"
      },
      "id": "WzuHz54d-XhV"
    },
    {
      "cell_type": "code",
      "source": [
        "class LSTM(nn.Module):\n",
        "  def __init__(self):\n",
        "    super().__init__()\n",
        "    # input structure for lstm\n",
        "    # (batch_size, seq_len or timesteps, input_dim or #features)\n",
        "    # self.embedding = nn.Embedding(1+1, 128,) # (input_dim + 1, any)\n",
        "    self.lstm = nn.LSTM(1, 128, batch_first=True) # (seq_len, any)\n",
        "    self.fc = nn.Linear(128, 1) #(any, output_dim)\n",
        "  def forward(self, x):\n",
        "    # x = self.embedding(X)\n",
        "    x, y = self.lstm(x) # (intermidiate_hidden_state, (last_hidden_state, last_cell_state))\n",
        "    # print(x.shape)\n",
        "    x = self.fc(x[:,-1,:]) # (batch_size, timesteps, features)\n",
        "    # we need all batchs last timestep all features\n",
        "    return x"
      ],
      "metadata": {
        "id": "H_rnq81V-hQK"
      },
      "id": "H_rnq81V-hQK",
      "execution_count": 297,
      "outputs": []
    },
    {
      "cell_type": "code",
      "source": [
        "int(X_train.max().item())"
      ],
      "metadata": {
        "id": "e39x-iEoO1ZO",
        "outputId": "586cdb15-600f-4cfe-8e77-9228042ffe32",
        "colab": {
          "base_uri": "https://localhost:8080/"
        }
      },
      "id": "e39x-iEoO1ZO",
      "execution_count": 201,
      "outputs": [
        {
          "output_type": "execute_result",
          "data": {
            "text/plain": [
              "0"
            ]
          },
          "metadata": {},
          "execution_count": 201
        }
      ]
    },
    {
      "cell_type": "markdown",
      "source": [
        "# Train & Evaluation"
      ],
      "metadata": {
        "id": "r2GnQRHX-Lbl"
      },
      "id": "r2GnQRHX-Lbl"
    },
    {
      "cell_type": "code",
      "source": [
        "lr = 0.01\n",
        "epochs = 100"
      ],
      "metadata": {
        "id": "O-pK4joF9xMF"
      },
      "id": "O-pK4joF9xMF",
      "execution_count": 202,
      "outputs": []
    },
    {
      "cell_type": "code",
      "source": [
        "device = torch.device('cuda' if torch.cuda.is_available() else 'cpu')\n",
        "model = LSTM().to(device)\n",
        "criterion = nn.MSELoss()\n",
        "optimizer = torch.optim.Adam(model.parameters(), lr=lr)"
      ],
      "metadata": {
        "id": "HKVR1ZWS-Hfx"
      },
      "id": "HKVR1ZWS-Hfx",
      "execution_count": 298,
      "outputs": []
    },
    {
      "cell_type": "code",
      "source": [
        "X.shape"
      ],
      "metadata": {
        "id": "-vIQOZkosiVO",
        "outputId": "23992b1f-3734-4445-eb4c-cc94878cd081",
        "colab": {
          "base_uri": "https://localhost:8080/"
        }
      },
      "id": "-vIQOZkosiVO",
      "execution_count": 287,
      "outputs": [
        {
          "output_type": "execute_result",
          "data": {
            "text/plain": [
              "torch.Size([64, 50, 1])"
            ]
          },
          "metadata": {},
          "execution_count": 287
        }
      ]
    },
    {
      "cell_type": "code",
      "source": [
        "for X, y in train_dataloader:\n",
        "  # print(X.shape, y.shape)\n",
        "  y_pred = model(X)\n",
        "  print(y_pred.shape, y.shape)\n",
        "  break"
      ],
      "metadata": {
        "id": "7o-Fxo_Wo6Ts",
        "outputId": "1709c1a5-88bb-40ef-9715-968f24876542",
        "colab": {
          "base_uri": "https://localhost:8080/"
        }
      },
      "id": "7o-Fxo_Wo6Ts",
      "execution_count": 299,
      "outputs": [
        {
          "output_type": "stream",
          "name": "stdout",
          "text": [
            "torch.Size([64, 1]) torch.Size([64, 1])\n"
          ]
        }
      ]
    },
    {
      "cell_type": "code",
      "source": [
        "for epoch in range(epochs):\n",
        "  total_loss = 0\n",
        "  for X, y in train_dataloader:\n",
        "    X, y = X.to(device), y.to(device)\n",
        "    optimizer.zero_grad()\n",
        "    output = model(X)\n",
        "    loss = criterion(output, y)\n",
        "    loss.backward()\n",
        "    optimizer.step()\n",
        "    total_loss += loss.item()\n",
        "  print(f'Epoch: {epoch+1}, Loss: {total_loss/len(train_dataloader)}')\n"
      ],
      "metadata": {
        "collapsed": true,
        "id": "th9yBrx7A8I8",
        "outputId": "a9038304-90ca-42e0-ba97-0d33f98daba3",
        "colab": {
          "base_uri": "https://localhost:8080/"
        }
      },
      "id": "th9yBrx7A8I8",
      "execution_count": 300,
      "outputs": [
        {
          "output_type": "stream",
          "name": "stdout",
          "text": [
            "Epoch: 0, Loss: 0.11985225820293029\n",
            "Epoch: 1, Loss: 0.026119235437363386\n",
            "Epoch: 2, Loss: 0.014675055824530622\n",
            "Epoch: 3, Loss: 0.004239969188347459\n",
            "Epoch: 4, Loss: 0.0015769672851699095\n",
            "Epoch: 5, Loss: 0.001279303008535256\n",
            "Epoch: 6, Loss: 0.0011285618481148656\n",
            "Epoch: 7, Loss: 0.0009990912415863324\n",
            "Epoch: 8, Loss: 0.0009744582348503172\n",
            "Epoch: 9, Loss: 0.0009520260452215249\n",
            "Epoch: 10, Loss: 0.0009213494292149941\n",
            "Epoch: 11, Loss: 0.000920631039965277\n",
            "Epoch: 12, Loss: 0.0009186177000325794\n",
            "Epoch: 13, Loss: 0.0009525539110957956\n",
            "Epoch: 14, Loss: 0.0009426902203510205\n",
            "Epoch: 15, Loss: 0.0009502752460927392\n",
            "Epoch: 16, Loss: 0.0008695921278558671\n",
            "Epoch: 17, Loss: 0.0008729758264962584\n",
            "Epoch: 18, Loss: 0.0009152915930220237\n",
            "Epoch: 19, Loss: 0.0009992611812776886\n",
            "Epoch: 20, Loss: 0.0007997861782011265\n",
            "Epoch: 21, Loss: 0.0008088598939745376\n",
            "Epoch: 22, Loss: 0.0007726004744957512\n",
            "Epoch: 23, Loss: 0.0007904247710636506\n",
            "Epoch: 24, Loss: 0.0007489324707421474\n",
            "Epoch: 25, Loss: 0.0007647957293859994\n",
            "Epoch: 26, Loss: 0.0007068051636451855\n",
            "Epoch: 27, Loss: 0.0007652914937352762\n",
            "Epoch: 28, Loss: 0.0007089243251054237\n",
            "Epoch: 29, Loss: 0.000716640225922068\n",
            "Epoch: 30, Loss: 0.0007638785270197938\n",
            "Epoch: 31, Loss: 0.000700862534965078\n",
            "Epoch: 32, Loss: 0.0007272656318188334\n",
            "Epoch: 33, Loss: 0.0006850817347488677\n",
            "Epoch: 34, Loss: 0.0006884468045124473\n",
            "Epoch: 35, Loss: 0.0006824563218591114\n",
            "Epoch: 36, Loss: 0.0006613933122328793\n",
            "Epoch: 37, Loss: 0.0006717297558983167\n",
            "Epoch: 38, Loss: 0.0007086283512762748\n",
            "Epoch: 39, Loss: 0.0007436687010340393\n",
            "Epoch: 40, Loss: 0.0007224662258522585\n",
            "Epoch: 41, Loss: 0.0006362008959210167\n",
            "Epoch: 42, Loss: 0.0006377489989972673\n",
            "Epoch: 43, Loss: 0.0007167188668972813\n",
            "Epoch: 44, Loss: 0.0006769710259201626\n",
            "Epoch: 45, Loss: 0.0006848040065960959\n",
            "Epoch: 46, Loss: 0.0006540238076316504\n",
            "Epoch: 47, Loss: 0.0006661133981348636\n",
            "Epoch: 48, Loss: 0.0006184229787322693\n",
            "Epoch: 49, Loss: 0.000618589668495891\n",
            "Epoch: 50, Loss: 0.0005940558039583266\n",
            "Epoch: 51, Loss: 0.0006898276842548512\n",
            "Epoch: 52, Loss: 0.0006497342934987197\n",
            "Epoch: 53, Loss: 0.0006791251701846098\n",
            "Epoch: 54, Loss: 0.0006965519423829392\n",
            "Epoch: 55, Loss: 0.0005974154143283764\n",
            "Epoch: 56, Loss: 0.000610525256585485\n",
            "Epoch: 57, Loss: 0.0005927598006868114\n",
            "Epoch: 58, Loss: 0.0005830773322183328\n",
            "Epoch: 59, Loss: 0.0005760094597159574\n",
            "Epoch: 60, Loss: 0.000606875961238984\n",
            "Epoch: 61, Loss: 0.0007073145049313704\n",
            "Epoch: 62, Loss: 0.0006850791154041266\n",
            "Epoch: 63, Loss: 0.0005982741034434488\n",
            "Epoch: 64, Loss: 0.0005813133175252005\n",
            "Epoch: 65, Loss: 0.000605012261075899\n",
            "Epoch: 66, Loss: 0.0006025721886544488\n",
            "Epoch: 67, Loss: 0.0005832342576468363\n",
            "Epoch: 68, Loss: 0.0005653951763330648\n",
            "Epoch: 69, Loss: 0.0005616897591001665\n",
            "Epoch: 70, Loss: 0.000610569977046301\n",
            "Epoch: 71, Loss: 0.0005702549412186878\n",
            "Epoch: 72, Loss: 0.0005594846273500783\n",
            "Epoch: 73, Loss: 0.0005662909946598423\n",
            "Epoch: 74, Loss: 0.0005753262472959856\n",
            "Epoch: 75, Loss: 0.0005808534115203656\n",
            "Epoch: 76, Loss: 0.0005558802052595032\n",
            "Epoch: 77, Loss: 0.0005679795382699618\n",
            "Epoch: 78, Loss: 0.0005954774799950732\n",
            "Epoch: 79, Loss: 0.0005693307709104071\n",
            "Epoch: 80, Loss: 0.0005614880161980788\n",
            "Epoch: 81, Loss: 0.0006108509757420203\n",
            "Epoch: 82, Loss: 0.0005476860375589846\n",
            "Epoch: 83, Loss: 0.000547585470485501\n",
            "Epoch: 84, Loss: 0.000609722024819348\n",
            "Epoch: 85, Loss: 0.0005956193320647193\n",
            "Epoch: 86, Loss: 0.0006467637867899612\n",
            "Epoch: 87, Loss: 0.0005786604306194931\n",
            "Epoch: 88, Loss: 0.0005849883212552717\n",
            "Epoch: 89, Loss: 0.0006099037685392735\n",
            "Epoch: 90, Loss: 0.0006162336333848847\n",
            "Epoch: 91, Loss: 0.000690750292657564\n",
            "Epoch: 92, Loss: 0.0005707620439352468\n",
            "Epoch: 93, Loss: 0.0006448700563244832\n",
            "Epoch: 94, Loss: 0.0005950009557030475\n",
            "Epoch: 95, Loss: 0.0006787408880578975\n",
            "Epoch: 96, Loss: 0.0006849148412584327\n",
            "Epoch: 97, Loss: 0.0007183973090529131\n",
            "Epoch: 98, Loss: 0.0006099328165873885\n",
            "Epoch: 99, Loss: 0.000541216371251115\n"
          ]
        }
      ]
    },
    {
      "cell_type": "code",
      "source": [
        "model.eval()\n",
        "\n",
        "y_pred = []\n",
        "y_real = []\n",
        "\n",
        "with torch.no_grad():\n",
        "  for X, y in test_dataloader:\n",
        "    X, y = X.to(device), y.to(device)\n",
        "    y_pred.extend(model(X).squeeze(-1).cpu().numpy())\n",
        "    y_real.extend(y.squeeze(-1).cpu().numpy())\n",
        "\n",
        "# y_pred = scaler.inverse_transform(y_pred)  # Rescale to original price\n",
        "plt.figure(figsize=(12,6))\n",
        "plt.plot(y_real, label='Real')\n",
        "plt.plot(y_pred, label='Predicted')\n",
        "plt.legend()\n",
        "plt.show()"
      ],
      "metadata": {
        "id": "xJgTpYw8COVw",
        "outputId": "ecd73a49-4fde-4160-e8e2-064c202b0e99",
        "colab": {
          "base_uri": "https://localhost:8080/",
          "height": 522
        }
      },
      "id": "xJgTpYw8COVw",
      "execution_count": 306,
      "outputs": [
        {
          "output_type": "display_data",
          "data": {
            "text/plain": [
              "<Figure size 1200x600 with 1 Axes>"
            ],
            "image/png": "[encoded data removed]"
          },
          "metadata": {}
        }
      ]
    }
  ],
  "metadata": {
    "kernelspec": {
      "display_name": "",
      "name": ""
    },
    "language_info": {
      "name": ""
    },
    "colab": {
      "provenance": [],
      "include_colab_link": true
    }
  },
  "nbformat": 4,
  "nbformat_minor": 5
}