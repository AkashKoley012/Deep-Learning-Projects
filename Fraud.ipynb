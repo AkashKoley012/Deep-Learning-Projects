{
  "nbformat": 4,
  "nbformat_minor": 0,
  "metadata": {
    "colab": {
      "provenance": [],
      "gpuType": "T4",
      "authorship_tag": "ABX9TyMXFJz4exyNVyXqewLlOOnR",
      "include_colab_link": true
    },
    "kernelspec": {
      "name": "python3",
      "display_name": "Python 3"
    },
    "language_info": {
      "name": "python"
    },
    "accelerator": "GPU"
  },
  "cells": [
    {
      "cell_type": "markdown",
      "metadata": {
        "id": "view-in-github",
        "colab_type": "text"
      },
      "source": [
        "<a href=\"https://colab.research.google.com/github/AkashKoley012/Deep-Learning-Projects/blob/main/Fraud.ipynb\" target=\"_parent\"><img src=\"https://colab.research.google.com/assets/colab-badge.svg\" alt=\"Open In Colab\"/></a>"
      ]
    },
    {
      "cell_type": "code",
      "execution_count": 38,
      "metadata": {
        "id": "wjU50AliNqJa"
      },
      "outputs": [],
      "source": [
        "import optuna\n",
        "import pandas as pd\n",
        "import numpy as np\n",
        "import seaborn as sns\n",
        "import matplotlib.pyplot as plt\n",
        "from sklearn.model_selection import train_test_split\n",
        "from sklearn.metrics import accuracy_score, classification_report, confusion_matrix, f1_score\n",
        "from sklearn.ensemble import RandomForestClassifier\n",
        "from xgboost import XGBClassifier\n",
        "from imblearn.over_sampling import SMOTE\n",
        "import warnings\n",
        "warnings.filterwarnings(\"ignore\")"
      ]
    },
    {
      "cell_type": "code",
      "source": [
        "# Load dataset\n",
        "df = pd.read_csv('/content/Fraud.csv')"
      ],
      "metadata": {
        "id": "XfUrUMV8OAHp"
      },
      "execution_count": 9,
      "outputs": []
    },
    {
      "cell_type": "code",
      "source": [
        "# Display basic information\n",
        "print(\"Dataset Info:\\n\", df.info())\n",
        "print('-'*50)\n",
        "print(\"\\nMissing Values:\\n\", df.isnull().sum())"
      ],
      "metadata": {
        "colab": {
          "base_uri": "https://localhost:8080/"
        },
        "id": "37wf5nuQqP7v",
        "outputId": "d8e12a13-e242-41ce-deb7-3bce7ddc0e07"
      },
      "execution_count": 5,
      "outputs": [
        {
          "output_type": "stream",
          "name": "stdout",
          "text": [
            "<class 'pandas.core.frame.DataFrame'>\n",
            "RangeIndex: 6362620 entries, 0 to 6362619\n",
            "Data columns (total 11 columns):\n",
            " #   Column          Dtype  \n",
            "---  ------          -----  \n",
            " 0   step            int64  \n",
            " 1   type            object \n",
            " 2   amount          float64\n",
            " 3   nameOrig        object \n",
            " 4   oldbalanceOrg   float64\n",
            " 5   newbalanceOrig  float64\n",
            " 6   nameDest        object \n",
            " 7   oldbalanceDest  float64\n",
            " 8   newbalanceDest  float64\n",
            " 9   isFraud         int64  \n",
            " 10  isFlaggedFraud  int64  \n",
            "dtypes: float64(5), int64(3), object(3)\n",
            "memory usage: 534.0+ MB\n",
            "Dataset Info:\n",
            " None\n",
            "--------------------------------------------------\n",
            "\n",
            "Missing Values:\n",
            " step              0\n",
            "type              0\n",
            "amount            0\n",
            "nameOrig          0\n",
            "oldbalanceOrg     0\n",
            "newbalanceOrig    0\n",
            "nameDest          0\n",
            "oldbalanceDest    0\n",
            "newbalanceDest    0\n",
            "isFraud           0\n",
            "isFlaggedFraud    0\n",
            "dtype: int64\n"
          ]
        }
      ]
    },
    {
      "cell_type": "markdown",
      "source": [
        "# DATA CLEANING"
      ],
      "metadata": {
        "id": "G7uwODxOoUUX"
      }
    },
    {
      "cell_type": "code",
      "source": [
        "# Filter only 'TRANSFER' and 'CASH-OUT' transactions\n",
        "df = df[(df['type'] == 'TRANSFER') | (df['type'] == 'CASH_OUT')]"
      ],
      "metadata": {
        "id": "zFaeNCouPxMS"
      },
      "execution_count": 13,
      "outputs": []
    },
    {
      "cell_type": "code",
      "source": [
        "# One-hot encoding for 'type'\n",
        "df = pd.get_dummies(df, columns=['type'], drop_first=True)"
      ],
      "metadata": {
        "id": "Y0pZVIrcuD8H"
      },
      "execution_count": 14,
      "outputs": []
    },
    {
      "cell_type": "code",
      "source": [
        "# Remove non-informative columns\n",
        "df.drop(['nameOrig', 'nameDest'], axis=1, inplace=True)"
      ],
      "metadata": {
        "id": "WJrLs1qHtrho"
      },
      "execution_count": 15,
      "outputs": []
    },
    {
      "cell_type": "code",
      "source": [
        "# Create new balance change features\n",
        "df[\"balance_change_orig\"] = df[\"newbalanceOrig\"] - df[\"oldbalanceOrg\"]\n",
        "df[\"balance_change_dest\"] = df[\"newbalanceDest\"] - df[\"oldbalanceDest\"]"
      ],
      "metadata": {
        "id": "y2wlXO0stxO3"
      },
      "execution_count": 17,
      "outputs": []
    },
    {
      "cell_type": "code",
      "source": [
        "# Drop original balance columns\n",
        "df.drop([\"oldbalanceOrg\", \"newbalanceOrig\", \"oldbalanceDest\", \"newbalanceDest\"], axis=1, inplace=True)"
      ],
      "metadata": {
        "id": "biG0kp4AWB1A"
      },
      "execution_count": 18,
      "outputs": []
    },
    {
      "cell_type": "code",
      "source": [
        "df.head()"
      ],
      "metadata": {
        "colab": {
          "base_uri": "https://localhost:8080/",
          "height": 226
        },
        "id": "F3dKEliytRZy",
        "outputId": "1ac18563-7044-4fb1-fb6a-fc5b31f24a03"
      },
      "execution_count": 19,
      "outputs": [
        {
          "output_type": "execute_result",
          "data": {
            "text/plain": [
              "    step     amount  isFraud  isFlaggedFraud  type_TRANSFER  \\\n",
              "2      1     181.00        1               0           True   \n",
              "3      1     181.00        1               0          False   \n",
              "15     1  229133.94        0               0          False   \n",
              "19     1  215310.30        0               0           True   \n",
              "24     1  311685.89        0               0           True   \n",
              "\n",
              "    balance_change_orig  balance_change_dest  \n",
              "2                -181.0                 0.00  \n",
              "3                -181.0            -21182.00  \n",
              "15             -15325.0             46430.44  \n",
              "19               -705.0            -22425.00  \n",
              "24             -10835.0           2712905.89  "
            ],
            "text/html": [
              "\n",
              "  <div id=\"df-576cd747-4eb2-41a1-82e3-01e402df2c21\" class=\"colab-df-container\">\n",
              "    <div>\n",
              "<style scoped>\n",
              "    .dataframe tbody tr th:only-of-type {\n",
              "        vertical-align: middle;\n",
              "    }\n",
              "\n",
              "    .dataframe tbody tr th {\n",
              "        vertical-align: top;\n",
              "    }\n",
              "\n",
              "    .dataframe thead th {\n",
              "        text-align: right;\n",
              "    }\n",
              "</style>\n",
              "<table border=\"1\" class=\"dataframe\">\n",
              "  <thead>\n",
              "    <tr style=\"text-align: right;\">\n",
              "      <th></th>\n",
              "      <th>step</th>\n",
              "      <th>amount</th>\n",
              "      <th>isFraud</th>\n",
              "      <th>isFlaggedFraud</th>\n",
              "      <th>type_TRANSFER</th>\n",
              "      <th>balance_change_orig</th>\n",
              "      <th>balance_change_dest</th>\n",
              "    </tr>\n",
              "  </thead>\n",
              "  <tbody>\n",
              "    <tr>\n",
              "      <th>2</th>\n",
              "      <td>1</td>\n",
              "      <td>181.00</td>\n",
              "      <td>1</td>\n",
              "      <td>0</td>\n",
              "      <td>True</td>\n",
              "      <td>-181.0</td>\n",
              "      <td>0.00</td>\n",
              "    </tr>\n",
              "    <tr>\n",
              "      <th>3</th>\n",
              "      <td>1</td>\n",
              "      <td>181.00</td>\n",
              "      <td>1</td>\n",
              "      <td>0</td>\n",
              "      <td>False</td>\n",
              "      <td>-181.0</td>\n",
              "      <td>-21182.00</td>\n",
              "    </tr>\n",
              "    <tr>\n",
              "      <th>15</th>\n",
              "      <td>1</td>\n",
              "      <td>229133.94</td>\n",
              "      <td>0</td>\n",
              "      <td>0</td>\n",
              "      <td>False</td>\n",
              "      <td>-15325.0</td>\n",
              "      <td>46430.44</td>\n",
              "    </tr>\n",
              "    <tr>\n",
              "      <th>19</th>\n",
              "      <td>1</td>\n",
              "      <td>215310.30</td>\n",
              "      <td>0</td>\n",
              "      <td>0</td>\n",
              "      <td>True</td>\n",
              "      <td>-705.0</td>\n",
              "      <td>-22425.00</td>\n",
              "    </tr>\n",
              "    <tr>\n",
              "      <th>24</th>\n",
              "      <td>1</td>\n",
              "      <td>311685.89</td>\n",
              "      <td>0</td>\n",
              "      <td>0</td>\n",
              "      <td>True</td>\n",
              "      <td>-10835.0</td>\n",
              "      <td>2712905.89</td>\n",
              "    </tr>\n",
              "  </tbody>\n",
              "</table>\n",
              "</div>\n",
              "    <div class=\"colab-df-buttons\">\n",
              "\n",
              "  <div class=\"colab-df-container\">\n",
              "    <button class=\"colab-df-convert\" onclick=\"convertToInteractive('df-576cd747-4eb2-41a1-82e3-01e402df2c21')\"\n",
              "            title=\"Convert this dataframe to an interactive table.\"\n",
              "            style=\"display:none;\">\n",
              "\n",
              "  <svg xmlns=\"http://www.w3.org/2000/svg\" height=\"24px\" viewBox=\"0 -960 960 960\">\n",
              "    <path d=\"M120-120v-720h720v720H120Zm60-500h600v-160H180v160Zm220 220h160v-160H400v160Zm0 220h160v-160H400v160ZM180-400h160v-160H180v160Zm440 0h160v-160H620v160ZM180-180h160v-160H180v160Zm440 0h160v-160H620v160Z\"/>\n",
              "  </svg>\n",
              "    </button>\n",
              "\n",
              "  <style>\n",
              "    .colab-df-container {\n",
              "      display:flex;\n",
              "      gap: 12px;\n",
              "    }\n",
              "\n",
              "    .colab-df-convert {\n",
              "      background-color: #E8F0FE;\n",
              "      border: none;\n",
              "      border-radius: 50%;\n",
              "      cursor: pointer;\n",
              "      display: none;\n",
              "      fill: #1967D2;\n",
              "      height: 32px;\n",
              "      padding: 0 0 0 0;\n",
              "      width: 32px;\n",
              "    }\n",
              "\n",
              "    .colab-df-convert:hover {\n",
              "      background-color: #E2EBFA;\n",
              "      box-shadow: 0px 1px 2px rgba(60, 64, 67, 0.3), 0px 1px 3px 1px rgba(60, 64, 67, 0.15);\n",
              "      fill: #174EA6;\n",
              "    }\n",
              "\n",
              "    .colab-df-buttons div {\n",
              "      margin-bottom: 4px;\n",
              "    }\n",
              "\n",
              "    [theme=dark] .colab-df-convert {\n",
              "      background-color: #3B4455;\n",
              "      fill: #D2E3FC;\n",
              "    }\n",
              "\n",
              "    [theme=dark] .colab-df-convert:hover {\n",
              "      background-color: #434B5C;\n",
              "      box-shadow: 0px 1px 3px 1px rgba(0, 0, 0, 0.15);\n",
              "      filter: drop-shadow(0px 1px 2px rgba(0, 0, 0, 0.3));\n",
              "      fill: #FFFFFF;\n",
              "    }\n",
              "  </style>\n",
              "\n",
              "    <script>\n",
              "      const buttonEl =\n",
              "        document.querySelector('#df-576cd747-4eb2-41a1-82e3-01e402df2c21 button.colab-df-convert');\n",
              "      buttonEl.style.display =\n",
              "        google.colab.kernel.accessAllowed ? 'block' : 'none';\n",
              "\n",
              "      async function convertToInteractive(key) {\n",
              "        const element = document.querySelector('#df-576cd747-4eb2-41a1-82e3-01e402df2c21');\n",
              "        const dataTable =\n",
              "          await google.colab.kernel.invokeFunction('convertToInteractive',\n",
              "                                                    [key], {});\n",
              "        if (!dataTable) return;\n",
              "\n",
              "        const docLinkHtml = 'Like what you see? Visit the ' +\n",
              "          '<a target=\"_blank\" href=https://colab.research.google.com/notebooks/data_table.ipynb>data table notebook</a>'\n",
              "          + ' to learn more about interactive tables.';\n",
              "        element.innerHTML = '';\n",
              "        dataTable['output_type'] = 'display_data';\n",
              "        await google.colab.output.renderOutput(dataTable, element);\n",
              "        const docLink = document.createElement('div');\n",
              "        docLink.innerHTML = docLinkHtml;\n",
              "        element.appendChild(docLink);\n",
              "      }\n",
              "    </script>\n",
              "  </div>\n",
              "\n",
              "\n",
              "<div id=\"df-0691d848-05d6-4ba4-bbc9-0bf384d848cd\">\n",
              "  <button class=\"colab-df-quickchart\" onclick=\"quickchart('df-0691d848-05d6-4ba4-bbc9-0bf384d848cd')\"\n",
              "            title=\"Suggest charts\"\n",
              "            style=\"display:none;\">\n",
              "\n",
              "<svg xmlns=\"http://www.w3.org/2000/svg\" height=\"24px\"viewBox=\"0 0 24 24\"\n",
              "     width=\"24px\">\n",
              "    <g>\n",
              "        <path d=\"M19 3H5c-1.1 0-2 .9-2 2v14c0 1.1.9 2 2 2h14c1.1 0 2-.9 2-2V5c0-1.1-.9-2-2-2zM9 17H7v-7h2v7zm4 0h-2V7h2v10zm4 0h-2v-4h2v4z\"/>\n",
              "    </g>\n",
              "</svg>\n",
              "  </button>\n",
              "\n",
              "<style>\n",
              "  .colab-df-quickchart {\n",
              "      --bg-color: #E8F0FE;\n",
              "      --fill-color: #1967D2;\n",
              "      --hover-bg-color: #E2EBFA;\n",
              "      --hover-fill-color: #174EA6;\n",
              "      --disabled-fill-color: #AAA;\n",
              "      --disabled-bg-color: #DDD;\n",
              "  }\n",
              "\n",
              "  [theme=dark] .colab-df-quickchart {\n",
              "      --bg-color: #3B4455;\n",
              "      --fill-color: #D2E3FC;\n",
              "      --hover-bg-color: #434B5C;\n",
              "      --hover-fill-color: #FFFFFF;\n",
              "      --disabled-bg-color: #3B4455;\n",
              "      --disabled-fill-color: #666;\n",
              "  }\n",
              "\n",
              "  .colab-df-quickchart {\n",
              "    background-color: var(--bg-color);\n",
              "    border: none;\n",
              "    border-radius: 50%;\n",
              "    cursor: pointer;\n",
              "    display: none;\n",
              "    fill: var(--fill-color);\n",
              "    height: 32px;\n",
              "    padding: 0;\n",
              "    width: 32px;\n",
              "  }\n",
              "\n",
              "  .colab-df-quickchart:hover {\n",
              "    background-color: var(--hover-bg-color);\n",
              "    box-shadow: 0 1px 2px rgba(60, 64, 67, 0.3), 0 1px 3px 1px rgba(60, 64, 67, 0.15);\n",
              "    fill: var(--button-hover-fill-color);\n",
              "  }\n",
              "\n",
              "  .colab-df-quickchart-complete:disabled,\n",
              "  .colab-df-quickchart-complete:disabled:hover {\n",
              "    background-color: var(--disabled-bg-color);\n",
              "    fill: var(--disabled-fill-color);\n",
              "    box-shadow: none;\n",
              "  }\n",
              "\n",
              "  .colab-df-spinner {\n",
              "    border: 2px solid var(--fill-color);\n",
              "    border-color: transparent;\n",
              "    border-bottom-color: var(--fill-color);\n",
              "    animation:\n",
              "      spin 1s steps(1) infinite;\n",
              "  }\n",
              "\n",
              "  @keyframes spin {\n",
              "    0% {\n",
              "      border-color: transparent;\n",
              "      border-bottom-color: var(--fill-color);\n",
              "      border-left-color: var(--fill-color);\n",
              "    }\n",
              "    20% {\n",
              "      border-color: transparent;\n",
              "      border-left-color: var(--fill-color);\n",
              "      border-top-color: var(--fill-color);\n",
              "    }\n",
              "    30% {\n",
              "      border-color: transparent;\n",
              "      border-left-color: var(--fill-color);\n",
              "      border-top-color: var(--fill-color);\n",
              "      border-right-color: var(--fill-color);\n",
              "    }\n",
              "    40% {\n",
              "      border-color: transparent;\n",
              "      border-right-color: var(--fill-color);\n",
              "      border-top-color: var(--fill-color);\n",
              "    }\n",
              "    60% {\n",
              "      border-color: transparent;\n",
              "      border-right-color: var(--fill-color);\n",
              "    }\n",
              "    80% {\n",
              "      border-color: transparent;\n",
              "      border-right-color: var(--fill-color);\n",
              "      border-bottom-color: var(--fill-color);\n",
              "    }\n",
              "    90% {\n",
              "      border-color: transparent;\n",
              "      border-bottom-color: var(--fill-color);\n",
              "    }\n",
              "  }\n",
              "</style>\n",
              "\n",
              "  <script>\n",
              "    async function quickchart(key) {\n",
              "      const quickchartButtonEl =\n",
              "        document.querySelector('#' + key + ' button');\n",
              "      quickchartButtonEl.disabled = true;  // To prevent multiple clicks.\n",
              "      quickchartButtonEl.classList.add('colab-df-spinner');\n",
              "      try {\n",
              "        const charts = await google.colab.kernel.invokeFunction(\n",
              "            'suggestCharts', [key], {});\n",
              "      } catch (error) {\n",
              "        console.error('Error during call to suggestCharts:', error);\n",
              "      }\n",
              "      quickchartButtonEl.classList.remove('colab-df-spinner');\n",
              "      quickchartButtonEl.classList.add('colab-df-quickchart-complete');\n",
              "    }\n",
              "    (() => {\n",
              "      let quickchartButtonEl =\n",
              "        document.querySelector('#df-0691d848-05d6-4ba4-bbc9-0bf384d848cd button');\n",
              "      quickchartButtonEl.style.display =\n",
              "        google.colab.kernel.accessAllowed ? 'block' : 'none';\n",
              "    })();\n",
              "  </script>\n",
              "</div>\n",
              "\n",
              "    </div>\n",
              "  </div>\n"
            ],
            "application/vnd.google.colaboratory.intrinsic+json": {
              "type": "dataframe",
              "variable_name": "df"
            }
          },
          "metadata": {},
          "execution_count": 19
        }
      ]
    },
    {
      "cell_type": "markdown",
      "source": [
        "# OUTLIER DETECTION"
      ],
      "metadata": {
        "id": "qvfz8qXioxtJ"
      }
    },
    {
      "cell_type": "code",
      "source": [
        "plt.figure(figsize=(10,5))\n",
        "sns.boxplot(x=df[\"isFraud\"], y=df[\"amount\"], palette=\"coolwarm\")\n",
        "plt.ylim(0, df[\"amount\"].quantile(0.95))\n",
        "plt.title(\"Transaction Amounts: Fraud vs Non-Fraud\")\n",
        "plt.show()"
      ],
      "metadata": {
        "colab": {
          "base_uri": "https://localhost:8080/",
          "height": 354
        },
        "id": "hUmQ6J-vWpln",
        "outputId": "c49bbe36-fcc8-441c-fa41-89df1641534c"
      },
      "execution_count": 22,
      "outputs": [
        {
          "output_type": "display_data",
          "data": {
            "text/plain": [
              "<Figure size 1000x500 with 1 Axes>"
            ],
            "image/png": "[encoded data removed]"
          },
          "metadata": {}
        }
      ]
    },
    {
      "cell_type": "code",
      "source": [
        "# Remove transactions with extreme amounts (e.g., above 99th percentile)\n",
        "df = df[df[\"amount\"] < df[\"amount\"].quantile(0.99)]"
      ],
      "metadata": {
        "id": "XJ4uS-5Fo-a9"
      },
      "execution_count": 21,
      "outputs": []
    },
    {
      "cell_type": "markdown",
      "source": [
        "# CORRELATION MATRIX"
      ],
      "metadata": {
        "id": "KOUovgY1pCBk"
      }
    },
    {
      "cell_type": "code",
      "source": [
        "plt.figure(figsize=(10,6))\n",
        "sns.heatmap(df.corr(), annot=True, cmap=\"coolwarm\", fmt=\".2f\", linewidths=0.5)\n",
        "plt.title(\"Feature Correlation Heatmap\")\n",
        "plt.show()"
      ],
      "metadata": {
        "colab": {
          "base_uri": "https://localhost:8080/",
          "height": 478
        },
        "id": "awXSRsYDpBCp",
        "outputId": "bd05c27c-b778-4332-90aa-35337f8ea32a"
      },
      "execution_count": 23,
      "outputs": [
        {
          "output_type": "display_data",
          "data": {
            "text/plain": [
              "<Figure size 1000x600 with 2 Axes>"
            ],
            "image/png": "[encoded data removed]"
          },
          "metadata": {}
        }
      ]
    },
    {
      "cell_type": "markdown",
      "source": [
        "# HYPERPARAMETER TUNING"
      ],
      "metadata": {
        "id": "4hP2K62DxI5t"
      }
    },
    {
      "cell_type": "code",
      "source": [
        "# Define the function to optimize hyperparameters\n",
        "def objective(trial):\n",
        "    # Define hyperparameter search space\n",
        "    params = {\n",
        "        'n_estimators': trial.suggest_int('n_estimators', 100, 500),\n",
        "        'max_depth': trial.suggest_int('max_depth', 3, 12),\n",
        "        'learning_rate': trial.suggest_loguniform('learning_rate', 0.01, 0.2),\n",
        "        'subsample': trial.suggest_float('subsample', 0.5, 1.0),\n",
        "        'colsample_bytree': trial.suggest_float('colsample_bytree', 0.5, 1.0),\n",
        "        'scale_pos_weight': trial.suggest_float('scale_pos_weight', 1, 20)  # Handle class imbalance\n",
        "    }\n",
        "\n",
        "    # Split data\n",
        "    X_train, X_test, y_train, y_test = train_test_split(X, y, test_size=0.2, random_state=42, stratify=y)\n",
        "\n",
        "    # Handle class imbalance using SMOTE\n",
        "    smote = SMOTE(sampling_strategy=0.2, random_state=42)\n",
        "    X_train_resampled, y_train_resampled = smote.fit_resample(X_train, y_train)\n",
        "\n",
        "    # Train XGBoost Model\n",
        "    model = XGBClassifier(**params, random_state=42, use_label_encoder=False, eval_metric=\"logloss\")\n",
        "    model.fit(X_train_resampled, y_train_resampled)\n",
        "\n",
        "    # Predictions\n",
        "    y_pred = model.predict(X_test)\n",
        "\n",
        "    # Evaluate using F1-score\n",
        "    return f1_score(y_test, y_pred)\n"
      ],
      "metadata": {
        "id": "SaV_jEC0xSDJ"
      },
      "execution_count": 39,
      "outputs": []
    },
    {
      "cell_type": "code",
      "source": [
        "study = optuna.create_study(direction=\"maximize\")\n",
        "study.optimize(objective, n_trials=50)"
      ],
      "metadata": {
        "colab": {
          "base_uri": "https://localhost:8080/"
        },
        "id": "eKC3TIIXxkNk",
        "outputId": "4f033791-81b5-4bff-e44f-a982f1f58dfb"
      },
      "execution_count": 40,
      "outputs": [
        {
          "output_type": "stream",
          "name": "stderr",
          "text": [
            "[I 2025-03-25 10:09:29,605] A new study created in memory with name: no-name-93248040-860a-4093-9b08-7fbae91f920a\n",
            "[I 2025-03-25 10:11:17,905] Trial 0 finished with value: 0.10430524382779024 and parameters: {'n_estimators': 426, 'max_depth': 10, 'learning_rate': 0.14827088569638444, 'subsample': 0.8229024847907808, 'colsample_bytree': 0.6037950032466897, 'scale_pos_weight': 10.586972298378054}. Best is trial 0 with value: 0.10430524382779024.\n",
            "[I 2025-03-25 10:13:31,239] Trial 1 finished with value: 0.09439245449856311 and parameters: {'n_estimators': 450, 'max_depth': 12, 'learning_rate': 0.08260599954137414, 'subsample': 0.805466520937748, 'colsample_bytree': 0.9223288329164058, 'scale_pos_weight': 18.53797317525843}. Best is trial 0 with value: 0.10430524382779024.\n",
            "[I 2025-03-25 10:14:23,644] Trial 2 finished with value: 0.04415395787944808 and parameters: {'n_estimators': 314, 'max_depth': 5, 'learning_rate': 0.010041459524554508, 'subsample': 0.5235516246412606, 'colsample_bytree': 0.9480692954458068, 'scale_pos_weight': 10.761841222055033}. Best is trial 0 with value: 0.10430524382779024.\n",
            "[I 2025-03-25 10:16:46,534] Trial 3 finished with value: 0.06701481722095899 and parameters: {'n_estimators': 409, 'max_depth': 11, 'learning_rate': 0.035941894733664215, 'subsample': 0.82007488800021, 'colsample_bytree': 0.5015156104336085, 'scale_pos_weight': 16.812255846832407}. Best is trial 0 with value: 0.10430524382779024.\n",
            "[I 2025-03-25 10:17:33,813] Trial 4 finished with value: 0.05566942690825613 and parameters: {'n_estimators': 451, 'max_depth': 3, 'learning_rate': 0.039632333939294946, 'subsample': 0.9875843164505402, 'colsample_bytree': 0.9722588804734168, 'scale_pos_weight': 9.980974074108232}. Best is trial 0 with value: 0.10430524382779024.\n",
            "[I 2025-03-25 10:19:08,388] Trial 5 finished with value: 0.08211977862288594 and parameters: {'n_estimators': 407, 'max_depth': 9, 'learning_rate': 0.042688834994831795, 'subsample': 0.6229928369297104, 'colsample_bytree': 0.7482204458866641, 'scale_pos_weight': 11.230217055800718}. Best is trial 0 with value: 0.10430524382779024.\n",
            "[I 2025-03-25 10:19:36,628] Trial 6 finished with value: 0.0785097255685491 and parameters: {'n_estimators': 176, 'max_depth': 5, 'learning_rate': 0.12746965058350815, 'subsample': 0.5794929773791214, 'colsample_bytree': 0.9930991688808507, 'scale_pos_weight': 8.924714751576765}. Best is trial 0 with value: 0.10430524382779024.\n",
            "[I 2025-03-25 10:21:01,076] Trial 7 finished with value: 0.05153155882018856 and parameters: {'n_estimators': 403, 'max_depth': 7, 'learning_rate': 0.010680778587828734, 'subsample': 0.520435906847168, 'colsample_bytree': 0.9238966925157714, 'scale_pos_weight': 11.758236879084116}. Best is trial 0 with value: 0.10430524382779024.\n",
            "[I 2025-03-25 10:21:27,510] Trial 8 finished with value: 0.037897411816700276 and parameters: {'n_estimators': 134, 'max_depth': 6, 'learning_rate': 0.010289482334448187, 'subsample': 0.6328644117153348, 'colsample_bytree': 0.7423554346713825, 'scale_pos_weight': 14.691560891647699}. Best is trial 0 with value: 0.10430524382779024.\n",
            "[I 2025-03-25 10:23:12,690] Trial 9 finished with value: 0.10188577378427364 and parameters: {'n_estimators': 455, 'max_depth': 9, 'learning_rate': 0.03544019936224957, 'subsample': 0.7521029892002656, 'colsample_bytree': 0.6316858563929109, 'scale_pos_weight': 7.359828175528434}. Best is trial 0 with value: 0.10430524382779024.\n",
            "[I 2025-03-25 10:24:25,459] Trial 10 finished with value: 0.3163640980068554 and parameters: {'n_estimators': 306, 'max_depth': 10, 'learning_rate': 0.17256711755996196, 'subsample': 0.9497315193573775, 'colsample_bytree': 0.5650760699161168, 'scale_pos_weight': 1.363809752491937}. Best is trial 10 with value: 0.3163640980068554.\n",
            "[I 2025-03-25 10:25:36,595] Trial 11 finished with value: 0.25160384923817164 and parameters: {'n_estimators': 288, 'max_depth': 10, 'learning_rate': 0.19846403128697446, 'subsample': 0.9259843248661945, 'colsample_bytree': 0.5535693863904336, 'scale_pos_weight': 2.0375843544647614}. Best is trial 10 with value: 0.3163640980068554.\n",
            "[I 2025-03-25 10:26:37,686] Trial 12 finished with value: 0.28352662988402205 and parameters: {'n_estimators': 267, 'max_depth': 9, 'learning_rate': 0.17896741396362784, 'subsample': 0.9777984906650751, 'colsample_bytree': 0.516595124369322, 'scale_pos_weight': 1.7164069544583143}. Best is trial 10 with value: 0.3163640980068554.\n",
            "[I 2025-03-25 10:27:34,984] Trial 13 finished with value: 0.3051216854340719 and parameters: {'n_estimators': 266, 'max_depth': 8, 'learning_rate': 0.07988060518696376, 'subsample': 0.924809536639339, 'colsample_bytree': 0.6690176127395836, 'scale_pos_weight': 1.4902293812786462}. Best is trial 10 with value: 0.3163640980068554.\n",
            "[I 2025-03-25 10:28:25,433] Trial 14 finished with value: 0.1336603310852238 and parameters: {'n_estimators': 219, 'max_depth': 8, 'learning_rate': 0.09217561780190954, 'subsample': 0.8847721495344025, 'colsample_bytree': 0.6719772269624368, 'scale_pos_weight': 5.186525310227987}. Best is trial 10 with value: 0.3163640980068554.\n",
            "[I 2025-03-25 10:30:06,666] Trial 15 finished with value: 0.15271853409432262 and parameters: {'n_estimators': 348, 'max_depth': 12, 'learning_rate': 0.07156837009623024, 'subsample': 0.8960799212879524, 'colsample_bytree': 0.8528503377476988, 'scale_pos_weight': 4.659707388698901}. Best is trial 10 with value: 0.3163640980068554.\n",
            "[I 2025-03-25 10:30:57,691] Trial 16 finished with value: 0.3640994905603836 and parameters: {'n_estimators': 249, 'max_depth': 7, 'learning_rate': 0.021162571003758634, 'subsample': 0.7105534134553879, 'colsample_bytree': 0.686417458265005, 'scale_pos_weight': 1.0066107634959574}. Best is trial 16 with value: 0.3640994905603836.\n",
            "[I 2025-03-25 10:31:42,931] Trial 17 finished with value: 0.11454055724820064 and parameters: {'n_estimators': 218, 'max_depth': 7, 'learning_rate': 0.01964386947837691, 'subsample': 0.7116245502489909, 'colsample_bytree': 0.8194452630348038, 'scale_pos_weight': 4.290461696387718}. Best is trial 16 with value: 0.3640994905603836.\n",
            "[I 2025-03-25 10:32:27,311] Trial 18 finished with value: 0.0684913737190297 and parameters: {'n_estimators': 348, 'max_depth': 3, 'learning_rate': 0.01820525688990332, 'subsample': 0.6886603875972391, 'colsample_bytree': 0.5876209184859731, 'scale_pos_weight': 6.799250531655651}. Best is trial 16 with value: 0.3640994905603836.\n",
            "[I 2025-03-25 10:32:47,691] Trial 19 finished with value: 0.17483002636325795 and parameters: {'n_estimators': 107, 'max_depth': 6, 'learning_rate': 0.024306766971531057, 'subsample': 0.7593182296649115, 'colsample_bytree': 0.6943967079003074, 'scale_pos_weight': 3.5846746974876043}. Best is trial 16 with value: 0.3640994905603836.\n",
            "[I 2025-03-25 10:33:47,081] Trial 20 finished with value: 0.07966066002827833 and parameters: {'n_estimators': 214, 'max_depth': 11, 'learning_rate': 0.059960201188487, 'subsample': 0.6827899799116942, 'colsample_bytree': 0.8157070614709806, 'scale_pos_weight': 13.72331395649306}. Best is trial 16 with value: 0.3640994905603836.\n",
            "[I 2025-03-25 10:34:40,251] Trial 21 finished with value: 0.36427835809916137 and parameters: {'n_estimators': 253, 'max_depth': 8, 'learning_rate': 0.11221983621493412, 'subsample': 0.9334077860498905, 'colsample_bytree': 0.6753988862324036, 'scale_pos_weight': 1.0030896741701494}. Best is trial 21 with value: 0.36427835809916137.\n",
            "[I 2025-03-25 10:35:44,802] Trial 22 finished with value: 0.3664890467732386 and parameters: {'n_estimators': 328, 'max_depth': 8, 'learning_rate': 0.11599601202287754, 'subsample': 0.8601859297968287, 'colsample_bytree': 0.7105538387546257, 'scale_pos_weight': 1.0163385286112356}. Best is trial 22 with value: 0.3664890467732386.\n",
            "[I 2025-03-25 10:36:41,834] Trial 23 finished with value: 0.17781134148015929 and parameters: {'n_estimators': 349, 'max_depth': 6, 'learning_rate': 0.11349665508210649, 'subsample': 0.8563858950054835, 'colsample_bytree': 0.7163502956893932, 'scale_pos_weight': 3.5435841568205904}. Best is trial 22 with value: 0.3664890467732386.\n",
            "[I 2025-03-25 10:37:36,251] Trial 24 finished with value: 0.11106907134148905 and parameters: {'n_estimators': 251, 'max_depth': 8, 'learning_rate': 0.06177200872589893, 'subsample': 0.7801429871188661, 'colsample_bytree': 0.6370387022719735, 'scale_pos_weight': 6.241351573857477}. Best is trial 22 with value: 0.3664890467732386.\n",
            "[I 2025-03-25 10:38:06,996] Trial 25 finished with value: 0.20672047438642727 and parameters: {'n_estimators': 156, 'max_depth': 7, 'learning_rate': 0.026298625134282074, 'subsample': 0.8666079912564109, 'colsample_bytree': 0.7870925295383306, 'scale_pos_weight': 2.7157964807518007}. Best is trial 22 with value: 0.3664890467732386.\n",
            "[I 2025-03-25 10:38:49,663] Trial 26 finished with value: 0.34729542302357835 and parameters: {'n_estimators': 191, 'max_depth': 8, 'learning_rate': 0.10572621718695092, 'subsample': 0.7224120965589947, 'colsample_bytree': 0.7042760200409093, 'scale_pos_weight': 1.1133561531852607}. Best is trial 22 with value: 0.3664890467732386.\n",
            "[I 2025-03-25 10:39:51,861] Trial 27 finished with value: 0.16564139092145308 and parameters: {'n_estimators': 371, 'max_depth': 6, 'learning_rate': 0.013906597710965512, 'subsample': 0.8552451051967656, 'colsample_bytree': 0.7721763863519465, 'scale_pos_weight': 3.211882496414735}. Best is trial 22 with value: 0.3664890467732386.\n",
            "[I 2025-03-25 10:40:28,144] Trial 28 finished with value: 0.08557175748273216 and parameters: {'n_estimators': 238, 'max_depth': 5, 'learning_rate': 0.029477574743874333, 'subsample': 0.9251144256672976, 'colsample_bytree': 0.6383614329750269, 'scale_pos_weight': 5.449252569750015}. Best is trial 22 with value: 0.3664890467732386.\n",
            "[I 2025-03-25 10:41:08,682] Trial 29 finished with value: 0.09277741071739055 and parameters: {'n_estimators': 319, 'max_depth': 4, 'learning_rate': 0.1387248355917445, 'subsample': 0.7998181353039957, 'colsample_bytree': 0.870734124474835, 'scale_pos_weight': 7.588948271275856}. Best is trial 22 with value: 0.3664890467732386.\n",
            "[I 2025-03-25 10:42:58,272] Trial 30 finished with value: 0.2163126593033135 and parameters: {'n_estimators': 492, 'max_depth': 9, 'learning_rate': 0.058817913747860585, 'subsample': 0.6485607690547343, 'colsample_bytree': 0.6140460598102477, 'scale_pos_weight': 2.714592493812477}. Best is trial 22 with value: 0.3664890467732386.\n",
            "[I 2025-03-25 10:43:39,837] Trial 31 finished with value: 0.3291470434327577 and parameters: {'n_estimators': 182, 'max_depth': 8, 'learning_rate': 0.10749117683091411, 'subsample': 0.7056044752421704, 'colsample_bytree': 0.7196165256021154, 'scale_pos_weight': 1.2604919713599267}. Best is trial 22 with value: 0.3664890467732386.\n",
            "[I 2025-03-25 10:44:18,319] Trial 32 finished with value: 0.35041415134072723 and parameters: {'n_estimators': 197, 'max_depth': 7, 'learning_rate': 0.09990770567217126, 'subsample': 0.7265543010823802, 'colsample_bytree': 0.6713732756423808, 'scale_pos_weight': 1.0543287772863652}. Best is trial 22 with value: 0.3664890467732386.\n",
            "[I 2025-03-25 10:45:13,947] Trial 33 finished with value: 0.05890651791721833 and parameters: {'n_estimators': 279, 'max_depth': 7, 'learning_rate': 0.05134526439405031, 'subsample': 0.7405238914258199, 'colsample_bytree': 0.6756148873519232, 'scale_pos_weight': 19.47789912665383}. Best is trial 22 with value: 0.3664890467732386.\n",
            "[I 2025-03-25 10:45:57,143] Trial 34 finished with value: 0.23609050445103857 and parameters: {'n_estimators': 234, 'max_depth': 7, 'learning_rate': 0.15229730431129235, 'subsample': 0.7806048831745063, 'colsample_bytree': 0.6538990220020803, 'scale_pos_weight': 2.359654216225371}. Best is trial 22 with value: 0.3664890467732386.\n",
            "[I 2025-03-25 10:47:11,388] Trial 35 finished with value: 0.16734509271822703 and parameters: {'n_estimators': 324, 'max_depth': 9, 'learning_rate': 0.08967460311760955, 'subsample': 0.8412497328929893, 'colsample_bytree': 0.5990580636907327, 'scale_pos_weight': 3.7214544465531256}. Best is trial 22 with value: 0.3664890467732386.\n",
            "[I 2025-03-25 10:48:02,221] Trial 36 finished with value: 0.1238442937745958 and parameters: {'n_estimators': 199, 'max_depth': 10, 'learning_rate': 0.07337405824061552, 'subsample': 0.8248242676106939, 'colsample_bytree': 0.7221150445086226, 'scale_pos_weight': 5.705316701793635}. Best is trial 22 with value: 0.3664890467732386.\n",
            "[I 2025-03-25 10:48:52,866] Trial 37 finished with value: 0.15132305902878743 and parameters: {'n_estimators': 292, 'max_depth': 6, 'learning_rate': 0.1339667314139319, 'subsample': 0.6707060466748184, 'colsample_bytree': 0.7661616006596025, 'scale_pos_weight': 4.362152646006365}. Best is trial 22 with value: 0.3664890467732386.\n",
            "[I 2025-03-25 10:49:27,467] Trial 38 finished with value: 0.06566453774982393 and parameters: {'n_estimators': 161, 'max_depth': 7, 'learning_rate': 0.0484309666410879, 'subsample': 0.5748636764506043, 'colsample_bytree': 0.6863784432174288, 'scale_pos_weight': 8.693642050527986}. Best is trial 22 with value: 0.3664890467732386.\n",
            "[I 2025-03-25 10:50:04,608] Trial 39 finished with value: 0.2270412642669008 and parameters: {'n_estimators': 253, 'max_depth': 5, 'learning_rate': 0.11988277184580398, 'subsample': 0.9982155693054096, 'colsample_bytree': 0.7373992111353674, 'scale_pos_weight': 2.5114721346176427}. Best is trial 22 with value: 0.3664890467732386.\n",
            "[I 2025-03-25 10:51:23,047] Trial 40 finished with value: 0.07674943566591422 and parameters: {'n_estimators': 368, 'max_depth': 8, 'learning_rate': 0.09729218495174465, 'subsample': 0.5951291152282018, 'colsample_bytree': 0.6535580488647205, 'scale_pos_weight': 16.504671231501593}. Best is trial 22 with value: 0.3664890467732386.\n",
            "[I 2025-03-25 10:52:03,088] Trial 41 finished with value: 0.32644520010462985 and parameters: {'n_estimators': 191, 'max_depth': 8, 'learning_rate': 0.1587024444925762, 'subsample': 0.7246235376766555, 'colsample_bytree': 0.6987613112835378, 'scale_pos_weight': 1.3077485394615984}. Best is trial 22 with value: 0.3664890467732386.\n",
            "[I 2025-03-25 10:52:37,534] Trial 42 finished with value: 0.34991615427613193 and parameters: {'n_estimators': 142, 'max_depth': 9, 'learning_rate': 0.10240300504821574, 'subsample': 0.6618346349369004, 'colsample_bytree': 0.7051661668382034, 'scale_pos_weight': 1.0951571938544273}. Best is trial 22 with value: 0.3664890467732386.\n",
            "[I 2025-03-25 10:53:05,532] Trial 43 finished with value: 0.36581045172719223 and parameters: {'n_estimators': 107, 'max_depth': 9, 'learning_rate': 0.07876018200360803, 'subsample': 0.6606776362056531, 'colsample_bytree': 0.7445490099262699, 'scale_pos_weight': 1.0134787961777572}. Best is trial 22 with value: 0.3664890467732386.\n",
            "[I 2025-03-25 10:53:35,041] Trial 44 finished with value: 0.24389312977099237 and parameters: {'n_estimators': 110, 'max_depth': 10, 'learning_rate': 0.12582701894355225, 'subsample': 0.9556061970036646, 'colsample_bytree': 0.7978454808421519, 'scale_pos_weight': 2.3273375015478344}. Best is trial 22 with value: 0.3664890467732386.\n",
            "[I 2025-03-25 10:54:46,196] Trial 45 finished with value: 0.18768242848803268 and parameters: {'n_estimators': 304, 'max_depth': 9, 'learning_rate': 0.07975291820248652, 'subsample': 0.6030676262877843, 'colsample_bytree': 0.7576803023239231, 'scale_pos_weight': 3.3196828964319502}. Best is trial 22 with value: 0.3664890467732386.\n",
            "[I 2025-03-25 10:55:22,369] Trial 46 finished with value: 0.2056584114771179 and parameters: {'n_estimators': 129, 'max_depth': 11, 'learning_rate': 0.03902145844356149, 'subsample': 0.8977489675251574, 'colsample_bytree': 0.6225756299286018, 'scale_pos_weight': 2.8358563902413967}. Best is trial 22 with value: 0.3664890467732386.\n",
            "[I 2025-03-25 10:55:59,071] Trial 47 finished with value: 0.0638353002143547 and parameters: {'n_estimators': 171, 'max_depth': 7, 'learning_rate': 0.06806834890446872, 'subsample': 0.6317129364199559, 'colsample_bytree': 0.7432791370594826, 'scale_pos_weight': 12.302812441328602}. Best is trial 22 with value: 0.3664890467732386.\n",
            "[I 2025-03-25 10:57:00,382] Trial 48 finished with value: 0.2653552369990583 and parameters: {'n_estimators': 272, 'max_depth': 9, 'learning_rate': 0.09165132517392985, 'subsample': 0.7710207435033043, 'colsample_bytree': 0.6539113777891835, 'scale_pos_weight': 1.993147936515502}. Best is trial 22 with value: 0.3664890467732386.\n",
            "[I 2025-03-25 10:57:52,950] Trial 49 finished with value: 0.14421105137726542 and parameters: {'n_estimators': 244, 'max_depth': 8, 'learning_rate': 0.197482925676155, 'subsample': 0.5521356129536316, 'colsample_bytree': 0.5748648721501755, 'scale_pos_weight': 4.607908754648688}. Best is trial 22 with value: 0.3664890467732386.\n"
          ]
        }
      ]
    },
    {
      "cell_type": "code",
      "source": [
        "print(\"Best Hyperparameters:\", study.best_params)"
      ],
      "metadata": {
        "colab": {
          "base_uri": "https://localhost:8080/"
        },
        "id": "J-StwJMzzAq-",
        "outputId": "538ca8b4-c649-47fa-db66-a81fbbf2bfb7"
      },
      "execution_count": 41,
      "outputs": [
        {
          "output_type": "stream",
          "name": "stdout",
          "text": [
            "Best Hyperparameters: {'n_estimators': 328, 'max_depth': 8, 'learning_rate': 0.11599601202287754, 'subsample': 0.8601859297968287, 'colsample_bytree': 0.7105538387546257, 'scale_pos_weight': 1.0163385286112356}\n"
          ]
        }
      ]
    },
    {
      "cell_type": "markdown",
      "source": [
        "# FEATURE SELECTION"
      ],
      "metadata": {
        "id": "RewtzY1rpG_U"
      }
    },
    {
      "cell_type": "code",
      "source": [
        "X = df.drop(columns=['isFraud', 'isFlaggedFraud'])\n",
        "y = df['isFraud']"
      ],
      "metadata": {
        "id": "WsbCuIRhpJBC"
      },
      "execution_count": 24,
      "outputs": []
    },
    {
      "cell_type": "code",
      "source": [
        "# Train-test split (80% train, 20% test)\n",
        "X_train, X_test, y_train, y_test = train_test_split(X, y, test_size=0.2, random_state=42, stratify=y)"
      ],
      "metadata": {
        "id": "AyLkYaObpLHp"
      },
      "execution_count": 25,
      "outputs": []
    },
    {
      "cell_type": "code",
      "source": [
        "# Handle class imbalance using SMOTE\n",
        "smote = SMOTE(sampling_strategy=0.2, random_state=42)\n",
        "X_train_resampled, y_train_resampled = smote.fit_resample(X_train, y_train)"
      ],
      "metadata": {
        "id": "cRI_SfjRpOjy"
      },
      "execution_count": 26,
      "outputs": []
    },
    {
      "cell_type": "markdown",
      "source": [
        "# MODEL TRAINING (XGBOOST)"
      ],
      "metadata": {
        "id": "bN9GGYlepUEH"
      }
    },
    {
      "cell_type": "code",
      "source": [
        "fraud_ratio = len(y_train[y_train == 0]) / len(y_train[y_train == 1])"
      ],
      "metadata": {
        "id": "3xclFFmppTOs"
      },
      "execution_count": 27,
      "outputs": []
    },
    {
      "cell_type": "code",
      "source": [
        "best_params = study.best_params\n",
        "\n",
        "# xgb_model = XGBClassifier(n_estimators=100, learning_rate=0.1, max_depth=6, scale_pos_weight=fraud_ratio, random_state=42)\n",
        "# xgb_model.fit(X_train_resampled, y_train_resampled)\n",
        "xgb_model = XGBClassifier(**best_params, random_state=42, use_label_encoder=False, eval_metric=\"logloss\")\n",
        "xgb_model.fit(X_train_resampled, y_train_resampled)"
      ],
      "metadata": {
        "colab": {
          "base_uri": "https://localhost:8080/",
          "height": 257
        },
        "id": "Tt0zpTghpahF",
        "outputId": "86a6f7a6-e85c-429a-bda6-24f34d7307a1"
      },
      "execution_count": 42,
      "outputs": [
        {
          "output_type": "execute_result",
          "data": {
            "text/plain": [
              "XGBClassifier(base_score=None, booster=None, callbacks=None,\n",
              "              colsample_bylevel=None, colsample_bynode=None,\n",
              "              colsample_bytree=0.7105538387546257, device=None,\n",
              "              early_stopping_rounds=None, enable_categorical=False,\n",
              "              eval_metric='logloss', feature_types=None, gamma=None,\n",
              "              grow_policy=None, importance_type=None,\n",
              "              interaction_constraints=None, learning_rate=0.11599601202287754,\n",
              "              max_bin=None, max_cat_threshold=None, max_cat_to_onehot=None,\n",
              "              max_delta_step=None, max_depth=8, max_leaves=None,\n",
              "              min_child_weight=None, missing=nan, monotone_constraints=None,\n",
              "              multi_strategy=None, n_estimators=328, n_jobs=None,\n",
              "              num_parallel_tree=None, random_state=42, ...)"
            ],
            "text/html": [
              "<style>#sk-container-id-2 {\n",
              "  /* Definition of color scheme common for light and dark mode */\n",
              "  --sklearn-color-text: #000;\n",
              "  --sklearn-color-text-muted: #666;\n",
              "  --sklearn-color-line: gray;\n",
              "  /* Definition of color scheme for unfitted estimators */\n",
              "  --sklearn-color-unfitted-level-0: #fff5e6;\n",
              "  --sklearn-color-unfitted-level-1: #f6e4d2;\n",
              "  --sklearn-color-unfitted-level-2: #ffe0b3;\n",
              "  --sklearn-color-unfitted-level-3: chocolate;\n",
              "  /* Definition of color scheme for fitted estimators */\n",
              "  --sklearn-color-fitted-level-0: #f0f8ff;\n",
              "  --sklearn-color-fitted-level-1: #d4ebff;\n",
              "  --sklearn-color-fitted-level-2: #b3dbfd;\n",
              "  --sklearn-color-fitted-level-3: cornflowerblue;\n",
              "\n",
              "  /* Specific color for light theme */\n",
              "  --sklearn-color-text-on-default-background: var(--sg-text-color, var(--theme-code-foreground, var(--jp-content-font-color1, black)));\n",
              "  --sklearn-color-background: var(--sg-background-color, var(--theme-background, var(--jp-layout-color0, white)));\n",
              "  --sklearn-color-border-box: var(--sg-text-color, var(--theme-code-foreground, var(--jp-content-font-color1, black)));\n",
              "  --sklearn-color-icon: #696969;\n",
              "\n",
              "  @media (prefers-color-scheme: dark) {\n",
              "    /* Redefinition of color scheme for dark theme */\n",
              "    --sklearn-color-text-on-default-background: var(--sg-text-color, var(--theme-code-foreground, var(--jp-content-font-color1, white)));\n",
              "    --sklearn-color-background: var(--sg-background-color, var(--theme-background, var(--jp-layout-color0, #111)));\n",
              "    --sklearn-color-border-box: var(--sg-text-color, var(--theme-code-foreground, var(--jp-content-font-color1, white)));\n",
              "    --sklearn-color-icon: #878787;\n",
              "  }\n",
              "}\n",
              "\n",
              "#sk-container-id-2 {\n",
              "  color: var(--sklearn-color-text);\n",
              "}\n",
              "\n",
              "#sk-container-id-2 pre {\n",
              "  padding: 0;\n",
              "}\n",
              "\n",
              "#sk-container-id-2 input.sk-hidden--visually {\n",
              "  border: 0;\n",
              "  clip: rect(1px 1px 1px 1px);\n",
              "  clip: rect(1px, 1px, 1px, 1px);\n",
              "  height: 1px;\n",
              "  margin: -1px;\n",
              "  overflow: hidden;\n",
              "  padding: 0;\n",
              "  position: absolute;\n",
              "  width: 1px;\n",
              "}\n",
              "\n",
              "#sk-container-id-2 div.sk-dashed-wrapped {\n",
              "  border: 1px dashed var(--sklearn-color-line);\n",
              "  margin: 0 0.4em 0.5em 0.4em;\n",
              "  box-sizing: border-box;\n",
              "  padding-bottom: 0.4em;\n",
              "  background-color: var(--sklearn-color-background);\n",
              "}\n",
              "\n",
              "#sk-container-id-2 div.sk-container {\n",
              "  /* jupyter's `normalize.less` sets `[hidden] { display: none; }`\n",
              "     but bootstrap.min.css set `[hidden] { display: none !important; }`\n",
              "     so we also need the `!important` here to be able to override the\n",
              "     default hidden behavior on the sphinx rendered scikit-learn.org.\n",
              "     See: https://github.com/scikit-learn/scikit-learn/issues/21755 */\n",
              "  display: inline-block !important;\n",
              "  position: relative;\n",
              "}\n",
              "\n",
              "#sk-container-id-2 div.sk-text-repr-fallback {\n",
              "  display: none;\n",
              "}\n",
              "\n",
              "div.sk-parallel-item,\n",
              "div.sk-serial,\n",
              "div.sk-item {\n",
              "  /* draw centered vertical line to link estimators */\n",
              "  background-image: linear-gradient(var(--sklearn-color-text-on-default-background), var(--sklearn-color-text-on-default-background));\n",
              "  background-size: 2px 100%;\n",
              "  background-repeat: no-repeat;\n",
              "  background-position: center center;\n",
              "}\n",
              "\n",
              "/* Parallel-specific style estimator block */\n",
              "\n",
              "#sk-container-id-2 div.sk-parallel-item::after {\n",
              "  content: \"\";\n",
              "  width: 100%;\n",
              "  border-bottom: 2px solid var(--sklearn-color-text-on-default-background);\n",
              "  flex-grow: 1;\n",
              "}\n",
              "\n",
              "#sk-container-id-2 div.sk-parallel {\n",
              "  display: flex;\n",
              "  align-items: stretch;\n",
              "  justify-content: center;\n",
              "  background-color: var(--sklearn-color-background);\n",
              "  position: relative;\n",
              "}\n",
              "\n",
              "#sk-container-id-2 div.sk-parallel-item {\n",
              "  display: flex;\n",
              "  flex-direction: column;\n",
              "}\n",
              "\n",
              "#sk-container-id-2 div.sk-parallel-item:first-child::after {\n",
              "  align-self: flex-end;\n",
              "  width: 50%;\n",
              "}\n",
              "\n",
              "#sk-container-id-2 div.sk-parallel-item:last-child::after {\n",
              "  align-self: flex-start;\n",
              "  width: 50%;\n",
              "}\n",
              "\n",
              "#sk-container-id-2 div.sk-parallel-item:only-child::after {\n",
              "  width: 0;\n",
              "}\n",
              "\n",
              "/* Serial-specific style estimator block */\n",
              "\n",
              "#sk-container-id-2 div.sk-serial {\n",
              "  display: flex;\n",
              "  flex-direction: column;\n",
              "  align-items: center;\n",
              "  background-color: var(--sklearn-color-background);\n",
              "  padding-right: 1em;\n",
              "  padding-left: 1em;\n",
              "}\n",
              "\n",
              "\n",
              "/* Toggleable style: style used for estimator/Pipeline/ColumnTransformer box that is\n",
              "clickable and can be expanded/collapsed.\n",
              "- Pipeline and ColumnTransformer use this feature and define the default style\n",
              "- Estimators will overwrite some part of the style using the `sk-estimator` class\n",
              "*/\n",
              "\n",
              "/* Pipeline and ColumnTransformer style (default) */\n",
              "\n",
              "#sk-container-id-2 div.sk-toggleable {\n",
              "  /* Default theme specific background. It is overwritten whether we have a\n",
              "  specific estimator or a Pipeline/ColumnTransformer */\n",
              "  background-color: var(--sklearn-color-background);\n",
              "}\n",
              "\n",
              "/* Toggleable label */\n",
              "#sk-container-id-2 label.sk-toggleable__label {\n",
              "  cursor: pointer;\n",
              "  display: flex;\n",
              "  width: 100%;\n",
              "  margin-bottom: 0;\n",
              "  padding: 0.5em;\n",
              "  box-sizing: border-box;\n",
              "  text-align: center;\n",
              "  align-items: start;\n",
              "  justify-content: space-between;\n",
              "  gap: 0.5em;\n",
              "}\n",
              "\n",
              "#sk-container-id-2 label.sk-toggleable__label .caption {\n",
              "  font-size: 0.6rem;\n",
              "  font-weight: lighter;\n",
              "  color: var(--sklearn-color-text-muted);\n",
              "}\n",
              "\n",
              "#sk-container-id-2 label.sk-toggleable__label-arrow:before {\n",
              "  /* Arrow on the left of the label */\n",
              "  content: \"▸\";\n",
              "  float: left;\n",
              "  margin-right: 0.25em;\n",
              "  color: var(--sklearn-color-icon);\n",
              "}\n",
              "\n",
              "#sk-container-id-2 label.sk-toggleable__label-arrow:hover:before {\n",
              "  color: var(--sklearn-color-text);\n",
              "}\n",
              "\n",
              "/* Toggleable content - dropdown */\n",
              "\n",
              "#sk-container-id-2 div.sk-toggleable__content {\n",
              "  max-height: 0;\n",
              "  max-width: 0;\n",
              "  overflow: hidden;\n",
              "  text-align: left;\n",
              "  /* unfitted */\n",
              "  background-color: var(--sklearn-color-unfitted-level-0);\n",
              "}\n",
              "\n",
              "#sk-container-id-2 div.sk-toggleable__content.fitted {\n",
              "  /* fitted */\n",
              "  background-color: var(--sklearn-color-fitted-level-0);\n",
              "}\n",
              "\n",
              "#sk-container-id-2 div.sk-toggleable__content pre {\n",
              "  margin: 0.2em;\n",
              "  border-radius: 0.25em;\n",
              "  color: var(--sklearn-color-text);\n",
              "  /* unfitted */\n",
              "  background-color: var(--sklearn-color-unfitted-level-0);\n",
              "}\n",
              "\n",
              "#sk-container-id-2 div.sk-toggleable__content.fitted pre {\n",
              "  /* unfitted */\n",
              "  background-color: var(--sklearn-color-fitted-level-0);\n",
              "}\n",
              "\n",
              "#sk-container-id-2 input.sk-toggleable__control:checked~div.sk-toggleable__content {\n",
              "  /* Expand drop-down */\n",
              "  max-height: 200px;\n",
              "  max-width: 100%;\n",
              "  overflow: auto;\n",
              "}\n",
              "\n",
              "#sk-container-id-2 input.sk-toggleable__control:checked~label.sk-toggleable__label-arrow:before {\n",
              "  content: \"▾\";\n",
              "}\n",
              "\n",
              "/* Pipeline/ColumnTransformer-specific style */\n",
              "\n",
              "#sk-container-id-2 div.sk-label input.sk-toggleable__control:checked~label.sk-toggleable__label {\n",
              "  color: var(--sklearn-color-text);\n",
              "  background-color: var(--sklearn-color-unfitted-level-2);\n",
              "}\n",
              "\n",
              "#sk-container-id-2 div.sk-label.fitted input.sk-toggleable__control:checked~label.sk-toggleable__label {\n",
              "  background-color: var(--sklearn-color-fitted-level-2);\n",
              "}\n",
              "\n",
              "/* Estimator-specific style */\n",
              "\n",
              "/* Colorize estimator box */\n",
              "#sk-container-id-2 div.sk-estimator input.sk-toggleable__control:checked~label.sk-toggleable__label {\n",
              "  /* unfitted */\n",
              "  background-color: var(--sklearn-color-unfitted-level-2);\n",
              "}\n",
              "\n",
              "#sk-container-id-2 div.sk-estimator.fitted input.sk-toggleable__control:checked~label.sk-toggleable__label {\n",
              "  /* fitted */\n",
              "  background-color: var(--sklearn-color-fitted-level-2);\n",
              "}\n",
              "\n",
              "#sk-container-id-2 div.sk-label label.sk-toggleable__label,\n",
              "#sk-container-id-2 div.sk-label label {\n",
              "  /* The background is the default theme color */\n",
              "  color: var(--sklearn-color-text-on-default-background);\n",
              "}\n",
              "\n",
              "/* On hover, darken the color of the background */\n",
              "#sk-container-id-2 div.sk-label:hover label.sk-toggleable__label {\n",
              "  color: var(--sklearn-color-text);\n",
              "  background-color: var(--sklearn-color-unfitted-level-2);\n",
              "}\n",
              "\n",
              "/* Label box, darken color on hover, fitted */\n",
              "#sk-container-id-2 div.sk-label.fitted:hover label.sk-toggleable__label.fitted {\n",
              "  color: var(--sklearn-color-text);\n",
              "  background-color: var(--sklearn-color-fitted-level-2);\n",
              "}\n",
              "\n",
              "/* Estimator label */\n",
              "\n",
              "#sk-container-id-2 div.sk-label label {\n",
              "  font-family: monospace;\n",
              "  font-weight: bold;\n",
              "  display: inline-block;\n",
              "  line-height: 1.2em;\n",
              "}\n",
              "\n",
              "#sk-container-id-2 div.sk-label-container {\n",
              "  text-align: center;\n",
              "}\n",
              "\n",
              "/* Estimator-specific */\n",
              "#sk-container-id-2 div.sk-estimator {\n",
              "  font-family: monospace;\n",
              "  border: 1px dotted var(--sklearn-color-border-box);\n",
              "  border-radius: 0.25em;\n",
              "  box-sizing: border-box;\n",
              "  margin-bottom: 0.5em;\n",
              "  /* unfitted */\n",
              "  background-color: var(--sklearn-color-unfitted-level-0);\n",
              "}\n",
              "\n",
              "#sk-container-id-2 div.sk-estimator.fitted {\n",
              "  /* fitted */\n",
              "  background-color: var(--sklearn-color-fitted-level-0);\n",
              "}\n",
              "\n",
              "/* on hover */\n",
              "#sk-container-id-2 div.sk-estimator:hover {\n",
              "  /* unfitted */\n",
              "  background-color: var(--sklearn-color-unfitted-level-2);\n",
              "}\n",
              "\n",
              "#sk-container-id-2 div.sk-estimator.fitted:hover {\n",
              "  /* fitted */\n",
              "  background-color: var(--sklearn-color-fitted-level-2);\n",
              "}\n",
              "\n",
              "/* Specification for estimator info (e.g. \"i\" and \"?\") */\n",
              "\n",
              "/* Common style for \"i\" and \"?\" */\n",
              "\n",
              ".sk-estimator-doc-link,\n",
              "a:link.sk-estimator-doc-link,\n",
              "a:visited.sk-estimator-doc-link {\n",
              "  float: right;\n",
              "  font-size: smaller;\n",
              "  line-height: 1em;\n",
              "  font-family: monospace;\n",
              "  background-color: var(--sklearn-color-background);\n",
              "  border-radius: 1em;\n",
              "  height: 1em;\n",
              "  width: 1em;\n",
              "  text-decoration: none !important;\n",
              "  margin-left: 0.5em;\n",
              "  text-align: center;\n",
              "  /* unfitted */\n",
              "  border: var(--sklearn-color-unfitted-level-1) 1pt solid;\n",
              "  color: var(--sklearn-color-unfitted-level-1);\n",
              "}\n",
              "\n",
              ".sk-estimator-doc-link.fitted,\n",
              "a:link.sk-estimator-doc-link.fitted,\n",
              "a:visited.sk-estimator-doc-link.fitted {\n",
              "  /* fitted */\n",
              "  border: var(--sklearn-color-fitted-level-1) 1pt solid;\n",
              "  color: var(--sklearn-color-fitted-level-1);\n",
              "}\n",
              "\n",
              "/* On hover */\n",
              "div.sk-estimator:hover .sk-estimator-doc-link:hover,\n",
              ".sk-estimator-doc-link:hover,\n",
              "div.sk-label-container:hover .sk-estimator-doc-link:hover,\n",
              ".sk-estimator-doc-link:hover {\n",
              "  /* unfitted */\n",
              "  background-color: var(--sklearn-color-unfitted-level-3);\n",
              "  color: var(--sklearn-color-background);\n",
              "  text-decoration: none;\n",
              "}\n",
              "\n",
              "div.sk-estimator.fitted:hover .sk-estimator-doc-link.fitted:hover,\n",
              ".sk-estimator-doc-link.fitted:hover,\n",
              "div.sk-label-container:hover .sk-estimator-doc-link.fitted:hover,\n",
              ".sk-estimator-doc-link.fitted:hover {\n",
              "  /* fitted */\n",
              "  background-color: var(--sklearn-color-fitted-level-3);\n",
              "  color: var(--sklearn-color-background);\n",
              "  text-decoration: none;\n",
              "}\n",
              "\n",
              "/* Span, style for the box shown on hovering the info icon */\n",
              ".sk-estimator-doc-link span {\n",
              "  display: none;\n",
              "  z-index: 9999;\n",
              "  position: relative;\n",
              "  font-weight: normal;\n",
              "  right: .2ex;\n",
              "  padding: .5ex;\n",
              "  margin: .5ex;\n",
              "  width: min-content;\n",
              "  min-width: 20ex;\n",
              "  max-width: 50ex;\n",
              "  color: var(--sklearn-color-text);\n",
              "  box-shadow: 2pt 2pt 4pt #999;\n",
              "  /* unfitted */\n",
              "  background: var(--sklearn-color-unfitted-level-0);\n",
              "  border: .5pt solid var(--sklearn-color-unfitted-level-3);\n",
              "}\n",
              "\n",
              ".sk-estimator-doc-link.fitted span {\n",
              "  /* fitted */\n",
              "  background: var(--sklearn-color-fitted-level-0);\n",
              "  border: var(--sklearn-color-fitted-level-3);\n",
              "}\n",
              "\n",
              ".sk-estimator-doc-link:hover span {\n",
              "  display: block;\n",
              "}\n",
              "\n",
              "/* \"?\"-specific style due to the `<a>` HTML tag */\n",
              "\n",
              "#sk-container-id-2 a.estimator_doc_link {\n",
              "  float: right;\n",
              "  font-size: 1rem;\n",
              "  line-height: 1em;\n",
              "  font-family: monospace;\n",
              "  background-color: var(--sklearn-color-background);\n",
              "  border-radius: 1rem;\n",
              "  height: 1rem;\n",
              "  width: 1rem;\n",
              "  text-decoration: none;\n",
              "  /* unfitted */\n",
              "  color: var(--sklearn-color-unfitted-level-1);\n",
              "  border: var(--sklearn-color-unfitted-level-1) 1pt solid;\n",
              "}\n",
              "\n",
              "#sk-container-id-2 a.estimator_doc_link.fitted {\n",
              "  /* fitted */\n",
              "  border: var(--sklearn-color-fitted-level-1) 1pt solid;\n",
              "  color: var(--sklearn-color-fitted-level-1);\n",
              "}\n",
              "\n",
              "/* On hover */\n",
              "#sk-container-id-2 a.estimator_doc_link:hover {\n",
              "  /* unfitted */\n",
              "  background-color: var(--sklearn-color-unfitted-level-3);\n",
              "  color: var(--sklearn-color-background);\n",
              "  text-decoration: none;\n",
              "}\n",
              "\n",
              "#sk-container-id-2 a.estimator_doc_link.fitted:hover {\n",
              "  /* fitted */\n",
              "  background-color: var(--sklearn-color-fitted-level-3);\n",
              "}\n",
              "</style><div id=\"sk-container-id-2\" class=\"sk-top-container\"><div class=\"sk-text-repr-fallback\"><pre>XGBClassifier(base_score=None, booster=None, callbacks=None,\n",
              "              colsample_bylevel=None, colsample_bynode=None,\n",
              "              colsample_bytree=0.7105538387546257, device=None,\n",
              "              early_stopping_rounds=None, enable_categorical=False,\n",
              "              eval_metric=&#x27;logloss&#x27;, feature_types=None, gamma=None,\n",
              "              grow_policy=None, importance_type=None,\n",
              "              interaction_constraints=None, learning_rate=0.11599601202287754,\n",
              "              max_bin=None, max_cat_threshold=None, max_cat_to_onehot=None,\n",
              "              max_delta_step=None, max_depth=8, max_leaves=None,\n",
              "              min_child_weight=None, missing=nan, monotone_constraints=None,\n",
              "              multi_strategy=None, n_estimators=328, n_jobs=None,\n",
              "              num_parallel_tree=None, random_state=42, ...)</pre><b>In a Jupyter environment, please rerun this cell to show the HTML representation or trust the notebook. <br />On GitHub, the HTML representation is unable to render, please try loading this page with nbviewer.org.</b></div><div class=\"sk-container\" hidden><div class=\"sk-item\"><div class=\"sk-estimator fitted sk-toggleable\"><input class=\"sk-toggleable__control sk-hidden--visually\" id=\"sk-estimator-id-2\" type=\"checkbox\" checked><label for=\"sk-estimator-id-2\" class=\"sk-toggleable__label fitted sk-toggleable__label-arrow\"><div><div>XGBClassifier</div></div><div><span class=\"sk-estimator-doc-link fitted\">i<span>Fitted</span></span></div></label><div class=\"sk-toggleable__content fitted\"><pre>XGBClassifier(base_score=None, booster=None, callbacks=None,\n",
              "              colsample_bylevel=None, colsample_bynode=None,\n",
              "              colsample_bytree=0.7105538387546257, device=None,\n",
              "              early_stopping_rounds=None, enable_categorical=False,\n",
              "              eval_metric=&#x27;logloss&#x27;, feature_types=None, gamma=None,\n",
              "              grow_policy=None, importance_type=None,\n",
              "              interaction_constraints=None, learning_rate=0.11599601202287754,\n",
              "              max_bin=None, max_cat_threshold=None, max_cat_to_onehot=None,\n",
              "              max_delta_step=None, max_depth=8, max_leaves=None,\n",
              "              min_child_weight=None, missing=nan, monotone_constraints=None,\n",
              "              multi_strategy=None, n_estimators=328, n_jobs=None,\n",
              "              num_parallel_tree=None, random_state=42, ...)</pre></div> </div></div></div></div>"
            ]
          },
          "metadata": {},
          "execution_count": 42
        }
      ]
    },
    {
      "cell_type": "markdown",
      "source": [
        "# MODEL EVALUATION"
      ],
      "metadata": {
        "id": "N_gE262Mpd4O"
      }
    },
    {
      "cell_type": "code",
      "source": [
        "y_pred = xgb_model.predict(X_test)"
      ],
      "metadata": {
        "id": "LSOSb5QcpdQZ"
      },
      "execution_count": 43,
      "outputs": []
    },
    {
      "cell_type": "code",
      "source": [
        "print(\"\\nModel Performance:\")\n",
        "print(\"Accuracy:\", accuracy_score(y_test, y_pred))\n",
        "print(\"\\nClassification Report:\\n\", classification_report(y_test, y_pred))\n",
        "print(\"\\nConfusion Matrix:\\n\", confusion_matrix(y_test, y_pred))"
      ],
      "metadata": {
        "colab": {
          "base_uri": "https://localhost:8080/"
        },
        "id": "kQzNo8TKpse1",
        "outputId": "c606c77b-9a6d-4e1e-deb2-600652722555"
      },
      "execution_count": 44,
      "outputs": [
        {
          "output_type": "stream",
          "name": "stdout",
          "text": [
            "\n",
            "Model Performance:\n",
            "Accuracy: 0.9921974838708502\n",
            "\n",
            "Classification Report:\n",
            "               precision    recall  f1-score   support\n",
            "\n",
            "           0       1.00      0.99      1.00    547162\n",
            "           1       0.23      0.90      0.37      1379\n",
            "\n",
            "    accuracy                           0.99    548541\n",
            "   macro avg       0.61      0.95      0.68    548541\n",
            "weighted avg       1.00      0.99      0.99    548541\n",
            "\n",
            "\n",
            "Confusion Matrix:\n",
            " [[543023   4139]\n",
            " [   141   1238]]\n"
          ]
        }
      ]
    },
    {
      "cell_type": "markdown",
      "source": [
        "# FEATURE IMPORTANCE"
      ],
      "metadata": {
        "id": "sw-pEKeZpuy8"
      }
    },
    {
      "cell_type": "code",
      "source": [
        "plt.figure(figsize=(10,6))\n",
        "sns.barplot(x=xgb_model.feature_importances_, y=X.columns)\n",
        "plt.title(\"Feature Importance in Fraud Detection\")\n",
        "plt.show()"
      ],
      "metadata": {
        "colab": {
          "base_uri": "https://localhost:8080/",
          "height": 357
        },
        "id": "VC2d65o-pw2C",
        "outputId": "d4e01462-1cb5-4466-c75a-e5898e55e816"
      },
      "execution_count": 45,
      "outputs": [
        {
          "output_type": "display_data",
          "data": {
            "text/plain": [
              "<Figure size 1000x600 with 1 Axes>"
            ],
            "image/png": "[encoded data removed]"
          },
          "metadata": {}
        }
      ]
    },
    {
      "cell_type": "markdown",
      "source": [
        "# KEY FRAUD PREDICTORS & PREVENTIVE MEASURES"
      ],
      "metadata": {
        "id": "XtAeedxRpzXb"
      }
    },
    {
      "cell_type": "code",
      "source": [
        "key_factors = pd.DataFrame({'Feature': X.columns, 'Importance': xgb_model.feature_importances_}).sort_values(by=\"Importance\", ascending=False)\n",
        "print(\"\\nKey Factors Predicting Fraud:\\n\", key_factors)"
      ],
      "metadata": {
        "colab": {
          "base_uri": "https://localhost:8080/"
        },
        "id": "i3c9EM4kp2HS",
        "outputId": "5d0e4830-3029-40ab-b1f7-2e11a6257de2"
      },
      "execution_count": 46,
      "outputs": [
        {
          "output_type": "stream",
          "name": "stdout",
          "text": [
            "\n",
            "Key Factors Predicting Fraud:\n",
            "                Feature  Importance\n",
            "3  balance_change_orig    0.344488\n",
            "2        type_TRANSFER    0.307368\n",
            "4  balance_change_dest    0.201883\n",
            "0                 step    0.081291\n",
            "1               amount    0.064970\n"
          ]
        }
      ]
    },
    {
      "cell_type": "markdown",
      "source": [
        "# MEASURING FRAUD PREVENTION EFFECTIVENESS"
      ],
      "metadata": {
        "id": "ir3TW4uiqQvW"
      }
    },
    {
      "cell_type": "code",
      "source": [
        "fraud_detected = sum(y_pred)\n",
        "fraud_actual = sum(y_test)\n",
        "detection_rate = fraud_detected / fraud_actual if fraud_actual > 0 else 0\n",
        "\n",
        "print(\"\\n📉 Measuring Effectiveness:\")\n",
        "print(f\"- Detected {fraud_detected} fraud cases out of {fraud_actual} actual frauds.\")\n",
        "print(f\"- Fraud detection effectiveness: {detection_rate:.2%}\")"
      ],
      "metadata": {
        "colab": {
          "base_uri": "https://localhost:8080/"
        },
        "id": "Q-4U-_YuqTzK",
        "outputId": "4ca8f01a-aad1-41ef-d76d-8af441b6d1e0"
      },
      "execution_count": 47,
      "outputs": [
        {
          "output_type": "stream",
          "name": "stdout",
          "text": [
            "\n",
            "📉 Measuring Effectiveness:\n",
            "- Detected 5377 fraud cases out of 1379 actual frauds.\n",
            "- Fraud detection effectiveness: 389.92%\n"
          ]
        }
      ]
    }
  ]
}